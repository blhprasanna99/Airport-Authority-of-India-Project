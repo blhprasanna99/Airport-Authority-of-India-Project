{
 "cells": [
  {
   "cell_type": "code",
   "execution_count": 2,
   "metadata": {
    "colab": {},
    "colab_type": "code",
    "id": "4I3MhNSS3TKE"
   },
   "outputs": [],
   "source": [
    "import numpy as np\n",
    "import matplotlib.pyplot as plt\n",
    "import pandas as pd\n",
    "import warnings\n",
    "from sklearn import preprocessing\n",
    "warnings.filterwarnings('ignore')\n",
    "from time import time\n",
    "%matplotlib inline\n",
    "import plotly\n",
    "import datetime\n",
    "import matplotlib.dates as mdates\n",
    "import plotly.graph_objs as go\n",
    "from plotly.offline import plot\n",
    "from plotly.subplots import make_subplots\n",
    "import os\n",
    "os.getcwd()\n",
    "os.chdir(\"C:/Users/Lekhasree Uddanti/Desktop/SVMModel\")"
   ]
  },
  {
   "cell_type": "code",
   "execution_count": 3,
   "metadata": {
    "colab": {
     "base_uri": "https://localhost:8080/",
     "height": 221
    },
    "colab_type": "code",
    "id": "2am_CDtQ4BJD",
    "outputId": "52cba9b0-949a-487e-9735-b4fb9a6c595d"
   },
   "outputs": [
    {
     "name": "stdout",
     "output_type": "stream",
     "text": [
      "Number of rows and columns: (136, 4)\n"
     ]
    },
    {
     "data": {
      "text/html": [
       "<div>\n",
       "<style scoped>\n",
       "    .dataframe tbody tr th:only-of-type {\n",
       "        vertical-align: middle;\n",
       "    }\n",
       "\n",
       "    .dataframe tbody tr th {\n",
       "        vertical-align: top;\n",
       "    }\n",
       "\n",
       "    .dataframe thead th {\n",
       "        text-align: right;\n",
       "    }\n",
       "</style>\n",
       "<table border=\"1\" class=\"dataframe\">\n",
       "  <thead>\n",
       "    <tr style=\"text-align: right;\">\n",
       "      <th></th>\n",
       "      <th>AirportName</th>\n",
       "      <th>TimeStamp</th>\n",
       "      <th>BarcodeData</th>\n",
       "      <th>ServiceUsed</th>\n",
       "    </tr>\n",
       "  </thead>\n",
       "  <tbody>\n",
       "    <tr>\n",
       "      <th>0</th>\n",
       "      <td>Gannavaram</td>\n",
       "      <td>7/28/2020 2:39</td>\n",
       "      <td>8.660000e+12</td>\n",
       "      <td>Trolleys</td>\n",
       "    </tr>\n",
       "    <tr>\n",
       "      <th>1</th>\n",
       "      <td>Gannavaram</td>\n",
       "      <td>7/28/2020 4:39</td>\n",
       "      <td>4.680000e+12</td>\n",
       "      <td>Arrival Baggage Belt</td>\n",
       "    </tr>\n",
       "    <tr>\n",
       "      <th>2</th>\n",
       "      <td>Gannavaram</td>\n",
       "      <td>7/28/2020 6:39</td>\n",
       "      <td>2.900000e+12</td>\n",
       "      <td>Parking Stands</td>\n",
       "    </tr>\n",
       "    <tr>\n",
       "      <th>3</th>\n",
       "      <td>Gannavaram</td>\n",
       "      <td>7/28/2020 7:39</td>\n",
       "      <td>8.490000e+12</td>\n",
       "      <td>Boarding Gates</td>\n",
       "    </tr>\n",
       "    <tr>\n",
       "      <th>4</th>\n",
       "      <td>Gannavaram</td>\n",
       "      <td>7/28/2020 8:39</td>\n",
       "      <td>4.500000e+12</td>\n",
       "      <td>Parking Stands</td>\n",
       "    </tr>\n",
       "  </tbody>\n",
       "</table>\n",
       "</div>"
      ],
      "text/plain": [
       "  AirportName       TimeStamp   BarcodeData           ServiceUsed\n",
       "0  Gannavaram  7/28/2020 2:39  8.660000e+12              Trolleys\n",
       "1  Gannavaram  7/28/2020 4:39  4.680000e+12  Arrival Baggage Belt\n",
       "2  Gannavaram  7/28/2020 6:39  2.900000e+12        Parking Stands\n",
       "3  Gannavaram  7/28/2020 7:39  8.490000e+12        Boarding Gates\n",
       "4  Gannavaram  7/28/2020 8:39  4.500000e+12        Parking Stands"
      ]
     },
     "execution_count": 3,
     "metadata": {},
     "output_type": "execute_result"
    }
   ],
   "source": [
    "df=pd.read_csv('GannavaramAirportData.csv')\n",
    "print('Number of rows and columns:', df.shape)\n",
    "df.head(5)"
   ]
  },
  {
   "cell_type": "code",
   "execution_count": 4,
   "metadata": {
    "colab": {},
    "colab_type": "code",
    "id": "z-9zZcF0IsH-"
   },
   "outputs": [],
   "source": [
    "df['TimeStamp']=pd.to_datetime(df['TimeStamp']) \n",
    "df['year'] = df['TimeStamp'].apply(lambda x: x.year)\n",
    "df['month'] = df['TimeStamp'].apply(lambda x: x.month)\n",
    "df['day'] = df['TimeStamp'].apply(lambda x: x.day)\n",
    "df.sort_values('TimeStamp', inplace=True, ascending=True)"
   ]
  },
  {
   "cell_type": "code",
   "execution_count": 5,
   "metadata": {
    "colab": {
     "base_uri": "https://localhost:8080/",
     "height": 419
    },
    "colab_type": "code",
    "id": "3--47BYqNcUV",
    "outputId": "210ad909-7c3e-4e78-ad1c-c71ed126b218"
   },
   "outputs": [
    {
     "data": {
      "text/html": [
       "<div>\n",
       "<style scoped>\n",
       "    .dataframe tbody tr th:only-of-type {\n",
       "        vertical-align: middle;\n",
       "    }\n",
       "\n",
       "    .dataframe tbody tr th {\n",
       "        vertical-align: top;\n",
       "    }\n",
       "\n",
       "    .dataframe thead th {\n",
       "        text-align: right;\n",
       "    }\n",
       "</style>\n",
       "<table border=\"1\" class=\"dataframe\">\n",
       "  <thead>\n",
       "    <tr style=\"text-align: right;\">\n",
       "      <th></th>\n",
       "      <th>AirportName</th>\n",
       "      <th>year</th>\n",
       "      <th>month</th>\n",
       "      <th>day</th>\n",
       "      <th>ServiceUsed</th>\n",
       "      <th>Units</th>\n",
       "    </tr>\n",
       "  </thead>\n",
       "  <tbody>\n",
       "    <tr>\n",
       "      <th>0</th>\n",
       "      <td>Gannavaram</td>\n",
       "      <td>2020</td>\n",
       "      <td>7</td>\n",
       "      <td>28</td>\n",
       "      <td>Arrival Baggage Belt</td>\n",
       "      <td>3</td>\n",
       "    </tr>\n",
       "    <tr>\n",
       "      <th>1</th>\n",
       "      <td>Gannavaram</td>\n",
       "      <td>2020</td>\n",
       "      <td>7</td>\n",
       "      <td>28</td>\n",
       "      <td>Boarding Gates</td>\n",
       "      <td>3</td>\n",
       "    </tr>\n",
       "    <tr>\n",
       "      <th>2</th>\n",
       "      <td>Gannavaram</td>\n",
       "      <td>2020</td>\n",
       "      <td>7</td>\n",
       "      <td>28</td>\n",
       "      <td>Currency Exchange</td>\n",
       "      <td>2</td>\n",
       "    </tr>\n",
       "    <tr>\n",
       "      <th>3</th>\n",
       "      <td>Gannavaram</td>\n",
       "      <td>2020</td>\n",
       "      <td>7</td>\n",
       "      <td>28</td>\n",
       "      <td>Luggage Storage</td>\n",
       "      <td>2</td>\n",
       "    </tr>\n",
       "    <tr>\n",
       "      <th>4</th>\n",
       "      <td>Gannavaram</td>\n",
       "      <td>2020</td>\n",
       "      <td>7</td>\n",
       "      <td>28</td>\n",
       "      <td>Parking Stands</td>\n",
       "      <td>8</td>\n",
       "    </tr>\n",
       "    <tr>\n",
       "      <th>5</th>\n",
       "      <td>Gannavaram</td>\n",
       "      <td>2020</td>\n",
       "      <td>7</td>\n",
       "      <td>28</td>\n",
       "      <td>Trolleys</td>\n",
       "      <td>4</td>\n",
       "    </tr>\n",
       "    <tr>\n",
       "      <th>6</th>\n",
       "      <td>Gannavaram</td>\n",
       "      <td>2020</td>\n",
       "      <td>7</td>\n",
       "      <td>29</td>\n",
       "      <td>Arrival Baggage Belt</td>\n",
       "      <td>4</td>\n",
       "    </tr>\n",
       "    <tr>\n",
       "      <th>7</th>\n",
       "      <td>Gannavaram</td>\n",
       "      <td>2020</td>\n",
       "      <td>7</td>\n",
       "      <td>29</td>\n",
       "      <td>Boarding Gates</td>\n",
       "      <td>4</td>\n",
       "    </tr>\n",
       "    <tr>\n",
       "      <th>8</th>\n",
       "      <td>Gannavaram</td>\n",
       "      <td>2020</td>\n",
       "      <td>7</td>\n",
       "      <td>29</td>\n",
       "      <td>Currency Exchange</td>\n",
       "      <td>2</td>\n",
       "    </tr>\n",
       "    <tr>\n",
       "      <th>9</th>\n",
       "      <td>Gannavaram</td>\n",
       "      <td>2020</td>\n",
       "      <td>7</td>\n",
       "      <td>29</td>\n",
       "      <td>Information Desk</td>\n",
       "      <td>3</td>\n",
       "    </tr>\n",
       "    <tr>\n",
       "      <th>10</th>\n",
       "      <td>Gannavaram</td>\n",
       "      <td>2020</td>\n",
       "      <td>7</td>\n",
       "      <td>29</td>\n",
       "      <td>Luggage Storage</td>\n",
       "      <td>2</td>\n",
       "    </tr>\n",
       "    <tr>\n",
       "      <th>11</th>\n",
       "      <td>Gannavaram</td>\n",
       "      <td>2020</td>\n",
       "      <td>7</td>\n",
       "      <td>29</td>\n",
       "      <td>Parking Stands</td>\n",
       "      <td>5</td>\n",
       "    </tr>\n",
       "    <tr>\n",
       "      <th>12</th>\n",
       "      <td>Gannavaram</td>\n",
       "      <td>2020</td>\n",
       "      <td>7</td>\n",
       "      <td>29</td>\n",
       "      <td>Trolleys</td>\n",
       "      <td>4</td>\n",
       "    </tr>\n",
       "    <tr>\n",
       "      <th>13</th>\n",
       "      <td>Gannavaram</td>\n",
       "      <td>2020</td>\n",
       "      <td>7</td>\n",
       "      <td>30</td>\n",
       "      <td>Arrival Baggage Belt</td>\n",
       "      <td>3</td>\n",
       "    </tr>\n",
       "    <tr>\n",
       "      <th>14</th>\n",
       "      <td>Gannavaram</td>\n",
       "      <td>2020</td>\n",
       "      <td>7</td>\n",
       "      <td>30</td>\n",
       "      <td>Boarding Gates</td>\n",
       "      <td>3</td>\n",
       "    </tr>\n",
       "    <tr>\n",
       "      <th>15</th>\n",
       "      <td>Gannavaram</td>\n",
       "      <td>2020</td>\n",
       "      <td>7</td>\n",
       "      <td>30</td>\n",
       "      <td>Currency Exchange</td>\n",
       "      <td>4</td>\n",
       "    </tr>\n",
       "    <tr>\n",
       "      <th>16</th>\n",
       "      <td>Gannavaram</td>\n",
       "      <td>2020</td>\n",
       "      <td>7</td>\n",
       "      <td>30</td>\n",
       "      <td>Information Desk</td>\n",
       "      <td>3</td>\n",
       "    </tr>\n",
       "    <tr>\n",
       "      <th>17</th>\n",
       "      <td>Gannavaram</td>\n",
       "      <td>2020</td>\n",
       "      <td>7</td>\n",
       "      <td>30</td>\n",
       "      <td>Luggage Storage</td>\n",
       "      <td>3</td>\n",
       "    </tr>\n",
       "    <tr>\n",
       "      <th>18</th>\n",
       "      <td>Gannavaram</td>\n",
       "      <td>2020</td>\n",
       "      <td>7</td>\n",
       "      <td>30</td>\n",
       "      <td>Parking Stands</td>\n",
       "      <td>5</td>\n",
       "    </tr>\n",
       "    <tr>\n",
       "      <th>19</th>\n",
       "      <td>Gannavaram</td>\n",
       "      <td>2020</td>\n",
       "      <td>7</td>\n",
       "      <td>30</td>\n",
       "      <td>Trolleys</td>\n",
       "      <td>1</td>\n",
       "    </tr>\n",
       "    <tr>\n",
       "      <th>20</th>\n",
       "      <td>Gannavaram</td>\n",
       "      <td>2020</td>\n",
       "      <td>7</td>\n",
       "      <td>31</td>\n",
       "      <td>Arrival Baggage Belt</td>\n",
       "      <td>3</td>\n",
       "    </tr>\n",
       "    <tr>\n",
       "      <th>21</th>\n",
       "      <td>Gannavaram</td>\n",
       "      <td>2020</td>\n",
       "      <td>7</td>\n",
       "      <td>31</td>\n",
       "      <td>Boarding Gates</td>\n",
       "      <td>2</td>\n",
       "    </tr>\n",
       "    <tr>\n",
       "      <th>22</th>\n",
       "      <td>Gannavaram</td>\n",
       "      <td>2020</td>\n",
       "      <td>7</td>\n",
       "      <td>31</td>\n",
       "      <td>Currency Exchange</td>\n",
       "      <td>2</td>\n",
       "    </tr>\n",
       "    <tr>\n",
       "      <th>23</th>\n",
       "      <td>Gannavaram</td>\n",
       "      <td>2020</td>\n",
       "      <td>7</td>\n",
       "      <td>31</td>\n",
       "      <td>Luggage Storage</td>\n",
       "      <td>1</td>\n",
       "    </tr>\n",
       "    <tr>\n",
       "      <th>24</th>\n",
       "      <td>Gannavaram</td>\n",
       "      <td>2020</td>\n",
       "      <td>7</td>\n",
       "      <td>31</td>\n",
       "      <td>Parking Stands</td>\n",
       "      <td>7</td>\n",
       "    </tr>\n",
       "    <tr>\n",
       "      <th>25</th>\n",
       "      <td>Gannavaram</td>\n",
       "      <td>2020</td>\n",
       "      <td>7</td>\n",
       "      <td>31</td>\n",
       "      <td>Trolleys</td>\n",
       "      <td>3</td>\n",
       "    </tr>\n",
       "    <tr>\n",
       "      <th>26</th>\n",
       "      <td>Gannavaram</td>\n",
       "      <td>2020</td>\n",
       "      <td>8</td>\n",
       "      <td>1</td>\n",
       "      <td>Arrival Baggage Belt</td>\n",
       "      <td>3</td>\n",
       "    </tr>\n",
       "    <tr>\n",
       "      <th>27</th>\n",
       "      <td>Gannavaram</td>\n",
       "      <td>2020</td>\n",
       "      <td>8</td>\n",
       "      <td>1</td>\n",
       "      <td>Boarding Gates</td>\n",
       "      <td>3</td>\n",
       "    </tr>\n",
       "    <tr>\n",
       "      <th>28</th>\n",
       "      <td>Gannavaram</td>\n",
       "      <td>2020</td>\n",
       "      <td>8</td>\n",
       "      <td>1</td>\n",
       "      <td>Currency Exchange</td>\n",
       "      <td>1</td>\n",
       "    </tr>\n",
       "    <tr>\n",
       "      <th>29</th>\n",
       "      <td>Gannavaram</td>\n",
       "      <td>2020</td>\n",
       "      <td>8</td>\n",
       "      <td>1</td>\n",
       "      <td>Information Desk</td>\n",
       "      <td>1</td>\n",
       "    </tr>\n",
       "    <tr>\n",
       "      <th>30</th>\n",
       "      <td>Gannavaram</td>\n",
       "      <td>2020</td>\n",
       "      <td>8</td>\n",
       "      <td>1</td>\n",
       "      <td>Luggage Storage</td>\n",
       "      <td>2</td>\n",
       "    </tr>\n",
       "    <tr>\n",
       "      <th>31</th>\n",
       "      <td>Gannavaram</td>\n",
       "      <td>2020</td>\n",
       "      <td>8</td>\n",
       "      <td>1</td>\n",
       "      <td>Parking Stands</td>\n",
       "      <td>4</td>\n",
       "    </tr>\n",
       "    <tr>\n",
       "      <th>32</th>\n",
       "      <td>Gannavaram</td>\n",
       "      <td>2020</td>\n",
       "      <td>8</td>\n",
       "      <td>1</td>\n",
       "      <td>Trolleys</td>\n",
       "      <td>3</td>\n",
       "    </tr>\n",
       "    <tr>\n",
       "      <th>33</th>\n",
       "      <td>Gannavaram</td>\n",
       "      <td>2020</td>\n",
       "      <td>8</td>\n",
       "      <td>2</td>\n",
       "      <td>Arrival Baggage Belt</td>\n",
       "      <td>1</td>\n",
       "    </tr>\n",
       "    <tr>\n",
       "      <th>34</th>\n",
       "      <td>Gannavaram</td>\n",
       "      <td>2020</td>\n",
       "      <td>8</td>\n",
       "      <td>2</td>\n",
       "      <td>Boarding Gates</td>\n",
       "      <td>2</td>\n",
       "    </tr>\n",
       "    <tr>\n",
       "      <th>35</th>\n",
       "      <td>Gannavaram</td>\n",
       "      <td>2020</td>\n",
       "      <td>8</td>\n",
       "      <td>2</td>\n",
       "      <td>Currency Exchange</td>\n",
       "      <td>1</td>\n",
       "    </tr>\n",
       "    <tr>\n",
       "      <th>36</th>\n",
       "      <td>Gannavaram</td>\n",
       "      <td>2020</td>\n",
       "      <td>8</td>\n",
       "      <td>2</td>\n",
       "      <td>Information Desk</td>\n",
       "      <td>3</td>\n",
       "    </tr>\n",
       "    <tr>\n",
       "      <th>37</th>\n",
       "      <td>Gannavaram</td>\n",
       "      <td>2020</td>\n",
       "      <td>8</td>\n",
       "      <td>2</td>\n",
       "      <td>Luggage Storage</td>\n",
       "      <td>2</td>\n",
       "    </tr>\n",
       "    <tr>\n",
       "      <th>38</th>\n",
       "      <td>Gannavaram</td>\n",
       "      <td>2020</td>\n",
       "      <td>8</td>\n",
       "      <td>2</td>\n",
       "      <td>Parking Stands</td>\n",
       "      <td>1</td>\n",
       "    </tr>\n",
       "    <tr>\n",
       "      <th>39</th>\n",
       "      <td>Gannavaram</td>\n",
       "      <td>2020</td>\n",
       "      <td>8</td>\n",
       "      <td>2</td>\n",
       "      <td>Trolleys</td>\n",
       "      <td>3</td>\n",
       "    </tr>\n",
       "    <tr>\n",
       "      <th>40</th>\n",
       "      <td>Gannavaram</td>\n",
       "      <td>2020</td>\n",
       "      <td>8</td>\n",
       "      <td>3</td>\n",
       "      <td>Arrival Baggage Belt</td>\n",
       "      <td>5</td>\n",
       "    </tr>\n",
       "    <tr>\n",
       "      <th>41</th>\n",
       "      <td>Gannavaram</td>\n",
       "      <td>2020</td>\n",
       "      <td>8</td>\n",
       "      <td>3</td>\n",
       "      <td>Boarding Gates</td>\n",
       "      <td>1</td>\n",
       "    </tr>\n",
       "    <tr>\n",
       "      <th>42</th>\n",
       "      <td>Gannavaram</td>\n",
       "      <td>2020</td>\n",
       "      <td>8</td>\n",
       "      <td>3</td>\n",
       "      <td>Information Desk</td>\n",
       "      <td>4</td>\n",
       "    </tr>\n",
       "    <tr>\n",
       "      <th>43</th>\n",
       "      <td>Gannavaram</td>\n",
       "      <td>2020</td>\n",
       "      <td>8</td>\n",
       "      <td>3</td>\n",
       "      <td>Parking Stands</td>\n",
       "      <td>2</td>\n",
       "    </tr>\n",
       "    <tr>\n",
       "      <th>44</th>\n",
       "      <td>Gannavaram</td>\n",
       "      <td>2020</td>\n",
       "      <td>8</td>\n",
       "      <td>3</td>\n",
       "      <td>Trolleys</td>\n",
       "      <td>8</td>\n",
       "    </tr>\n",
       "  </tbody>\n",
       "</table>\n",
       "</div>"
      ],
      "text/plain": [
       "   AirportName  year  month  day           ServiceUsed  Units\n",
       "0   Gannavaram  2020      7   28  Arrival Baggage Belt      3\n",
       "1   Gannavaram  2020      7   28        Boarding Gates      3\n",
       "2   Gannavaram  2020      7   28     Currency Exchange      2\n",
       "3   Gannavaram  2020      7   28       Luggage Storage      2\n",
       "4   Gannavaram  2020      7   28        Parking Stands      8\n",
       "5   Gannavaram  2020      7   28              Trolleys      4\n",
       "6   Gannavaram  2020      7   29  Arrival Baggage Belt      4\n",
       "7   Gannavaram  2020      7   29        Boarding Gates      4\n",
       "8   Gannavaram  2020      7   29     Currency Exchange      2\n",
       "9   Gannavaram  2020      7   29      Information Desk      3\n",
       "10  Gannavaram  2020      7   29       Luggage Storage      2\n",
       "11  Gannavaram  2020      7   29        Parking Stands      5\n",
       "12  Gannavaram  2020      7   29              Trolleys      4\n",
       "13  Gannavaram  2020      7   30  Arrival Baggage Belt      3\n",
       "14  Gannavaram  2020      7   30        Boarding Gates      3\n",
       "15  Gannavaram  2020      7   30     Currency Exchange      4\n",
       "16  Gannavaram  2020      7   30      Information Desk      3\n",
       "17  Gannavaram  2020      7   30       Luggage Storage      3\n",
       "18  Gannavaram  2020      7   30        Parking Stands      5\n",
       "19  Gannavaram  2020      7   30              Trolleys      1\n",
       "20  Gannavaram  2020      7   31  Arrival Baggage Belt      3\n",
       "21  Gannavaram  2020      7   31        Boarding Gates      2\n",
       "22  Gannavaram  2020      7   31     Currency Exchange      2\n",
       "23  Gannavaram  2020      7   31       Luggage Storage      1\n",
       "24  Gannavaram  2020      7   31        Parking Stands      7\n",
       "25  Gannavaram  2020      7   31              Trolleys      3\n",
       "26  Gannavaram  2020      8    1  Arrival Baggage Belt      3\n",
       "27  Gannavaram  2020      8    1        Boarding Gates      3\n",
       "28  Gannavaram  2020      8    1     Currency Exchange      1\n",
       "29  Gannavaram  2020      8    1      Information Desk      1\n",
       "30  Gannavaram  2020      8    1       Luggage Storage      2\n",
       "31  Gannavaram  2020      8    1        Parking Stands      4\n",
       "32  Gannavaram  2020      8    1              Trolleys      3\n",
       "33  Gannavaram  2020      8    2  Arrival Baggage Belt      1\n",
       "34  Gannavaram  2020      8    2        Boarding Gates      2\n",
       "35  Gannavaram  2020      8    2     Currency Exchange      1\n",
       "36  Gannavaram  2020      8    2      Information Desk      3\n",
       "37  Gannavaram  2020      8    2       Luggage Storage      2\n",
       "38  Gannavaram  2020      8    2        Parking Stands      1\n",
       "39  Gannavaram  2020      8    2              Trolleys      3\n",
       "40  Gannavaram  2020      8    3  Arrival Baggage Belt      5\n",
       "41  Gannavaram  2020      8    3        Boarding Gates      1\n",
       "42  Gannavaram  2020      8    3      Information Desk      4\n",
       "43  Gannavaram  2020      8    3        Parking Stands      2\n",
       "44  Gannavaram  2020      8    3              Trolleys      8"
      ]
     },
     "execution_count": 5,
     "metadata": {},
     "output_type": "execute_result"
    }
   ],
   "source": [
    "df1 = df.groupby([\"AirportName\",\"year\",\"month\",\"day\",\"ServiceUsed\"]).size().reset_index(name=\"Units\")\n",
    "df1"
   ]
  },
  {
   "cell_type": "code",
   "execution_count": 6,
   "metadata": {
    "colab": {
     "base_uri": "https://localhost:8080/",
     "height": 419
    },
    "colab_type": "code",
    "id": "1clfoxNndkz2",
    "outputId": "7986164f-12b9-4c9b-f026-03b25e6691f3"
   },
   "outputs": [
    {
     "data": {
      "text/html": [
       "<div>\n",
       "<style scoped>\n",
       "    .dataframe tbody tr th:only-of-type {\n",
       "        vertical-align: middle;\n",
       "    }\n",
       "\n",
       "    .dataframe tbody tr th {\n",
       "        vertical-align: top;\n",
       "    }\n",
       "\n",
       "    .dataframe thead th {\n",
       "        text-align: right;\n",
       "    }\n",
       "</style>\n",
       "<table border=\"1\" class=\"dataframe\">\n",
       "  <thead>\n",
       "    <tr style=\"text-align: right;\">\n",
       "      <th></th>\n",
       "      <th>AirportName</th>\n",
       "      <th>ServiceUsed</th>\n",
       "      <th>Units</th>\n",
       "      <th>TimeStamp</th>\n",
       "    </tr>\n",
       "  </thead>\n",
       "  <tbody>\n",
       "    <tr>\n",
       "      <th>0</th>\n",
       "      <td>Gannavaram</td>\n",
       "      <td>Arrival Baggage Belt</td>\n",
       "      <td>3</td>\n",
       "      <td>2020-07-28</td>\n",
       "    </tr>\n",
       "    <tr>\n",
       "      <th>1</th>\n",
       "      <td>Gannavaram</td>\n",
       "      <td>Boarding Gates</td>\n",
       "      <td>3</td>\n",
       "      <td>2020-07-28</td>\n",
       "    </tr>\n",
       "    <tr>\n",
       "      <th>2</th>\n",
       "      <td>Gannavaram</td>\n",
       "      <td>Currency Exchange</td>\n",
       "      <td>2</td>\n",
       "      <td>2020-07-28</td>\n",
       "    </tr>\n",
       "    <tr>\n",
       "      <th>3</th>\n",
       "      <td>Gannavaram</td>\n",
       "      <td>Luggage Storage</td>\n",
       "      <td>2</td>\n",
       "      <td>2020-07-28</td>\n",
       "    </tr>\n",
       "    <tr>\n",
       "      <th>4</th>\n",
       "      <td>Gannavaram</td>\n",
       "      <td>Parking Stands</td>\n",
       "      <td>8</td>\n",
       "      <td>2020-07-28</td>\n",
       "    </tr>\n",
       "    <tr>\n",
       "      <th>5</th>\n",
       "      <td>Gannavaram</td>\n",
       "      <td>Trolleys</td>\n",
       "      <td>4</td>\n",
       "      <td>2020-07-28</td>\n",
       "    </tr>\n",
       "    <tr>\n",
       "      <th>6</th>\n",
       "      <td>Gannavaram</td>\n",
       "      <td>Arrival Baggage Belt</td>\n",
       "      <td>4</td>\n",
       "      <td>2020-07-29</td>\n",
       "    </tr>\n",
       "    <tr>\n",
       "      <th>7</th>\n",
       "      <td>Gannavaram</td>\n",
       "      <td>Boarding Gates</td>\n",
       "      <td>4</td>\n",
       "      <td>2020-07-29</td>\n",
       "    </tr>\n",
       "    <tr>\n",
       "      <th>8</th>\n",
       "      <td>Gannavaram</td>\n",
       "      <td>Currency Exchange</td>\n",
       "      <td>2</td>\n",
       "      <td>2020-07-29</td>\n",
       "    </tr>\n",
       "    <tr>\n",
       "      <th>9</th>\n",
       "      <td>Gannavaram</td>\n",
       "      <td>Information Desk</td>\n",
       "      <td>3</td>\n",
       "      <td>2020-07-29</td>\n",
       "    </tr>\n",
       "    <tr>\n",
       "      <th>10</th>\n",
       "      <td>Gannavaram</td>\n",
       "      <td>Luggage Storage</td>\n",
       "      <td>2</td>\n",
       "      <td>2020-07-29</td>\n",
       "    </tr>\n",
       "    <tr>\n",
       "      <th>11</th>\n",
       "      <td>Gannavaram</td>\n",
       "      <td>Parking Stands</td>\n",
       "      <td>5</td>\n",
       "      <td>2020-07-29</td>\n",
       "    </tr>\n",
       "    <tr>\n",
       "      <th>12</th>\n",
       "      <td>Gannavaram</td>\n",
       "      <td>Trolleys</td>\n",
       "      <td>4</td>\n",
       "      <td>2020-07-29</td>\n",
       "    </tr>\n",
       "    <tr>\n",
       "      <th>13</th>\n",
       "      <td>Gannavaram</td>\n",
       "      <td>Arrival Baggage Belt</td>\n",
       "      <td>3</td>\n",
       "      <td>2020-07-30</td>\n",
       "    </tr>\n",
       "    <tr>\n",
       "      <th>14</th>\n",
       "      <td>Gannavaram</td>\n",
       "      <td>Boarding Gates</td>\n",
       "      <td>3</td>\n",
       "      <td>2020-07-30</td>\n",
       "    </tr>\n",
       "    <tr>\n",
       "      <th>15</th>\n",
       "      <td>Gannavaram</td>\n",
       "      <td>Currency Exchange</td>\n",
       "      <td>4</td>\n",
       "      <td>2020-07-30</td>\n",
       "    </tr>\n",
       "    <tr>\n",
       "      <th>16</th>\n",
       "      <td>Gannavaram</td>\n",
       "      <td>Information Desk</td>\n",
       "      <td>3</td>\n",
       "      <td>2020-07-30</td>\n",
       "    </tr>\n",
       "    <tr>\n",
       "      <th>17</th>\n",
       "      <td>Gannavaram</td>\n",
       "      <td>Luggage Storage</td>\n",
       "      <td>3</td>\n",
       "      <td>2020-07-30</td>\n",
       "    </tr>\n",
       "    <tr>\n",
       "      <th>18</th>\n",
       "      <td>Gannavaram</td>\n",
       "      <td>Parking Stands</td>\n",
       "      <td>5</td>\n",
       "      <td>2020-07-30</td>\n",
       "    </tr>\n",
       "    <tr>\n",
       "      <th>19</th>\n",
       "      <td>Gannavaram</td>\n",
       "      <td>Trolleys</td>\n",
       "      <td>1</td>\n",
       "      <td>2020-07-30</td>\n",
       "    </tr>\n",
       "    <tr>\n",
       "      <th>20</th>\n",
       "      <td>Gannavaram</td>\n",
       "      <td>Arrival Baggage Belt</td>\n",
       "      <td>3</td>\n",
       "      <td>2020-07-31</td>\n",
       "    </tr>\n",
       "    <tr>\n",
       "      <th>21</th>\n",
       "      <td>Gannavaram</td>\n",
       "      <td>Boarding Gates</td>\n",
       "      <td>2</td>\n",
       "      <td>2020-07-31</td>\n",
       "    </tr>\n",
       "    <tr>\n",
       "      <th>22</th>\n",
       "      <td>Gannavaram</td>\n",
       "      <td>Currency Exchange</td>\n",
       "      <td>2</td>\n",
       "      <td>2020-07-31</td>\n",
       "    </tr>\n",
       "    <tr>\n",
       "      <th>23</th>\n",
       "      <td>Gannavaram</td>\n",
       "      <td>Luggage Storage</td>\n",
       "      <td>1</td>\n",
       "      <td>2020-07-31</td>\n",
       "    </tr>\n",
       "    <tr>\n",
       "      <th>24</th>\n",
       "      <td>Gannavaram</td>\n",
       "      <td>Parking Stands</td>\n",
       "      <td>7</td>\n",
       "      <td>2020-07-31</td>\n",
       "    </tr>\n",
       "    <tr>\n",
       "      <th>25</th>\n",
       "      <td>Gannavaram</td>\n",
       "      <td>Trolleys</td>\n",
       "      <td>3</td>\n",
       "      <td>2020-07-31</td>\n",
       "    </tr>\n",
       "    <tr>\n",
       "      <th>26</th>\n",
       "      <td>Gannavaram</td>\n",
       "      <td>Arrival Baggage Belt</td>\n",
       "      <td>3</td>\n",
       "      <td>2020-01-08</td>\n",
       "    </tr>\n",
       "    <tr>\n",
       "      <th>27</th>\n",
       "      <td>Gannavaram</td>\n",
       "      <td>Boarding Gates</td>\n",
       "      <td>3</td>\n",
       "      <td>2020-01-08</td>\n",
       "    </tr>\n",
       "    <tr>\n",
       "      <th>28</th>\n",
       "      <td>Gannavaram</td>\n",
       "      <td>Currency Exchange</td>\n",
       "      <td>1</td>\n",
       "      <td>2020-01-08</td>\n",
       "    </tr>\n",
       "    <tr>\n",
       "      <th>29</th>\n",
       "      <td>Gannavaram</td>\n",
       "      <td>Information Desk</td>\n",
       "      <td>1</td>\n",
       "      <td>2020-01-08</td>\n",
       "    </tr>\n",
       "    <tr>\n",
       "      <th>30</th>\n",
       "      <td>Gannavaram</td>\n",
       "      <td>Luggage Storage</td>\n",
       "      <td>2</td>\n",
       "      <td>2020-01-08</td>\n",
       "    </tr>\n",
       "    <tr>\n",
       "      <th>31</th>\n",
       "      <td>Gannavaram</td>\n",
       "      <td>Parking Stands</td>\n",
       "      <td>4</td>\n",
       "      <td>2020-01-08</td>\n",
       "    </tr>\n",
       "    <tr>\n",
       "      <th>32</th>\n",
       "      <td>Gannavaram</td>\n",
       "      <td>Trolleys</td>\n",
       "      <td>3</td>\n",
       "      <td>2020-01-08</td>\n",
       "    </tr>\n",
       "    <tr>\n",
       "      <th>33</th>\n",
       "      <td>Gannavaram</td>\n",
       "      <td>Arrival Baggage Belt</td>\n",
       "      <td>1</td>\n",
       "      <td>2020-02-08</td>\n",
       "    </tr>\n",
       "    <tr>\n",
       "      <th>34</th>\n",
       "      <td>Gannavaram</td>\n",
       "      <td>Boarding Gates</td>\n",
       "      <td>2</td>\n",
       "      <td>2020-02-08</td>\n",
       "    </tr>\n",
       "    <tr>\n",
       "      <th>35</th>\n",
       "      <td>Gannavaram</td>\n",
       "      <td>Currency Exchange</td>\n",
       "      <td>1</td>\n",
       "      <td>2020-02-08</td>\n",
       "    </tr>\n",
       "    <tr>\n",
       "      <th>36</th>\n",
       "      <td>Gannavaram</td>\n",
       "      <td>Information Desk</td>\n",
       "      <td>3</td>\n",
       "      <td>2020-02-08</td>\n",
       "    </tr>\n",
       "    <tr>\n",
       "      <th>37</th>\n",
       "      <td>Gannavaram</td>\n",
       "      <td>Luggage Storage</td>\n",
       "      <td>2</td>\n",
       "      <td>2020-02-08</td>\n",
       "    </tr>\n",
       "    <tr>\n",
       "      <th>38</th>\n",
       "      <td>Gannavaram</td>\n",
       "      <td>Parking Stands</td>\n",
       "      <td>1</td>\n",
       "      <td>2020-02-08</td>\n",
       "    </tr>\n",
       "    <tr>\n",
       "      <th>39</th>\n",
       "      <td>Gannavaram</td>\n",
       "      <td>Trolleys</td>\n",
       "      <td>3</td>\n",
       "      <td>2020-02-08</td>\n",
       "    </tr>\n",
       "    <tr>\n",
       "      <th>40</th>\n",
       "      <td>Gannavaram</td>\n",
       "      <td>Arrival Baggage Belt</td>\n",
       "      <td>5</td>\n",
       "      <td>2020-03-08</td>\n",
       "    </tr>\n",
       "    <tr>\n",
       "      <th>41</th>\n",
       "      <td>Gannavaram</td>\n",
       "      <td>Boarding Gates</td>\n",
       "      <td>1</td>\n",
       "      <td>2020-03-08</td>\n",
       "    </tr>\n",
       "    <tr>\n",
       "      <th>42</th>\n",
       "      <td>Gannavaram</td>\n",
       "      <td>Information Desk</td>\n",
       "      <td>4</td>\n",
       "      <td>2020-03-08</td>\n",
       "    </tr>\n",
       "    <tr>\n",
       "      <th>43</th>\n",
       "      <td>Gannavaram</td>\n",
       "      <td>Parking Stands</td>\n",
       "      <td>2</td>\n",
       "      <td>2020-03-08</td>\n",
       "    </tr>\n",
       "    <tr>\n",
       "      <th>44</th>\n",
       "      <td>Gannavaram</td>\n",
       "      <td>Trolleys</td>\n",
       "      <td>8</td>\n",
       "      <td>2020-03-08</td>\n",
       "    </tr>\n",
       "  </tbody>\n",
       "</table>\n",
       "</div>"
      ],
      "text/plain": [
       "   AirportName           ServiceUsed  Units  TimeStamp\n",
       "0   Gannavaram  Arrival Baggage Belt      3 2020-07-28\n",
       "1   Gannavaram        Boarding Gates      3 2020-07-28\n",
       "2   Gannavaram     Currency Exchange      2 2020-07-28\n",
       "3   Gannavaram       Luggage Storage      2 2020-07-28\n",
       "4   Gannavaram        Parking Stands      8 2020-07-28\n",
       "5   Gannavaram              Trolleys      4 2020-07-28\n",
       "6   Gannavaram  Arrival Baggage Belt      4 2020-07-29\n",
       "7   Gannavaram        Boarding Gates      4 2020-07-29\n",
       "8   Gannavaram     Currency Exchange      2 2020-07-29\n",
       "9   Gannavaram      Information Desk      3 2020-07-29\n",
       "10  Gannavaram       Luggage Storage      2 2020-07-29\n",
       "11  Gannavaram        Parking Stands      5 2020-07-29\n",
       "12  Gannavaram              Trolleys      4 2020-07-29\n",
       "13  Gannavaram  Arrival Baggage Belt      3 2020-07-30\n",
       "14  Gannavaram        Boarding Gates      3 2020-07-30\n",
       "15  Gannavaram     Currency Exchange      4 2020-07-30\n",
       "16  Gannavaram      Information Desk      3 2020-07-30\n",
       "17  Gannavaram       Luggage Storage      3 2020-07-30\n",
       "18  Gannavaram        Parking Stands      5 2020-07-30\n",
       "19  Gannavaram              Trolleys      1 2020-07-30\n",
       "20  Gannavaram  Arrival Baggage Belt      3 2020-07-31\n",
       "21  Gannavaram        Boarding Gates      2 2020-07-31\n",
       "22  Gannavaram     Currency Exchange      2 2020-07-31\n",
       "23  Gannavaram       Luggage Storage      1 2020-07-31\n",
       "24  Gannavaram        Parking Stands      7 2020-07-31\n",
       "25  Gannavaram              Trolleys      3 2020-07-31\n",
       "26  Gannavaram  Arrival Baggage Belt      3 2020-01-08\n",
       "27  Gannavaram        Boarding Gates      3 2020-01-08\n",
       "28  Gannavaram     Currency Exchange      1 2020-01-08\n",
       "29  Gannavaram      Information Desk      1 2020-01-08\n",
       "30  Gannavaram       Luggage Storage      2 2020-01-08\n",
       "31  Gannavaram        Parking Stands      4 2020-01-08\n",
       "32  Gannavaram              Trolleys      3 2020-01-08\n",
       "33  Gannavaram  Arrival Baggage Belt      1 2020-02-08\n",
       "34  Gannavaram        Boarding Gates      2 2020-02-08\n",
       "35  Gannavaram     Currency Exchange      1 2020-02-08\n",
       "36  Gannavaram      Information Desk      3 2020-02-08\n",
       "37  Gannavaram       Luggage Storage      2 2020-02-08\n",
       "38  Gannavaram        Parking Stands      1 2020-02-08\n",
       "39  Gannavaram              Trolleys      3 2020-02-08\n",
       "40  Gannavaram  Arrival Baggage Belt      5 2020-03-08\n",
       "41  Gannavaram        Boarding Gates      1 2020-03-08\n",
       "42  Gannavaram      Information Desk      4 2020-03-08\n",
       "43  Gannavaram        Parking Stands      2 2020-03-08\n",
       "44  Gannavaram              Trolleys      8 2020-03-08"
      ]
     },
     "execution_count": 6,
     "metadata": {},
     "output_type": "execute_result"
    }
   ],
   "source": [
    "dt = pd.to_datetime(df1['day'].astype(str)+\"/\"+df1['month'].astype(str)+\"/\"+df1[\"year\"].astype(str))\n",
    "df2 = df1.iloc[: , [0, 4, 5]].copy() \n",
    "df2['TimeStamp'] = dt\n",
    "df2"
   ]
  },
  {
   "cell_type": "code",
   "execution_count": 7,
   "metadata": {
    "colab": {
     "base_uri": "https://localhost:8080/",
     "height": 407
    },
    "colab_type": "code",
    "id": "eYjUI0rAjBna",
    "outputId": "262ca331-1300-42af-e50f-8a6616852d48"
   },
   "outputs": [
    {
     "data": {
      "text/plain": [
       "Text(0.5, 1.0, 'Service Usage')"
      ]
     },
     "execution_count": 7,
     "metadata": {},
     "output_type": "execute_result"
    },
    {
     "data": {
      "image/png": "[encoded data removed]",
      "text/plain": [
       "<Figure size 1008x432 with 1 Axes>"
      ]
     },
     "metadata": {
      "needs_background": "light"
     },
     "output_type": "display_data"
    }
   ],
   "source": [
    "plt.figure(figsize=(14,6))\n",
    "plt.subplot(1,2,1)\n",
    "df1['ServiceUsed'].hist(bins=50)\n",
    "plt.title('Service Usage')"
   ]
  },
  {
   "cell_type": "code",
   "execution_count": 8,
   "metadata": {
    "colab": {},
    "colab_type": "code",
    "id": "eshDla2ewQkk"
   },
   "outputs": [],
   "source": [
    "s1 = df2.loc[df2['ServiceUsed'] == 'Arrival Baggage Belt'] \n",
    "s2 = df2.loc[df2['ServiceUsed'] == 'Boarding Gates'] \n",
    "s3 = df2.loc[df2['ServiceUsed'] == 'Currency Exchange']\n",
    "s4 = df2.loc[df2['ServiceUsed'] == 'Information Desk']\n",
    "s5 = df2.loc[df2['ServiceUsed'] == 'Luggage Storage']\n",
    "s6 = df2.loc[df2['ServiceUsed'] == 'Parking Stands']\n",
    "s7 = df2.loc[df2['ServiceUsed'] == 'Trolleys']"
   ]
  },
  {
   "cell_type": "code",
   "execution_count": 9,
   "metadata": {
    "colab": {},
    "colab_type": "code",
    "id": "RjAX_Rl6bPpW"
   },
   "outputs": [],
   "source": [
    "from sklearn.preprocessing import LabelEncoder\n",
    "label_encoder = preprocessing.LabelEncoder()\n",
    "df2['ServiceUsed']= label_encoder.fit_transform(df2['ServiceUsed']) \n",
    "df2['AirportName']= label_encoder.fit_transform(df2['AirportName'])\n",
    "df2['TimeStamp'] = df2['TimeStamp'].map(mdates.date2num)"
   ]
  },
  {
   "cell_type": "code",
   "execution_count": 10,
   "metadata": {
    "colab": {
     "base_uri": "https://localhost:8080/",
     "height": 419
    },
    "colab_type": "code",
    "id": "KOsveQNupjwp",
    "outputId": "17e39b0c-c14c-41e7-e88e-c21188098a13"
   },
   "outputs": [
    {
     "data": {
      "text/html": [
       "<div>\n",
       "<style scoped>\n",
       "    .dataframe tbody tr th:only-of-type {\n",
       "        vertical-align: middle;\n",
       "    }\n",
       "\n",
       "    .dataframe tbody tr th {\n",
       "        vertical-align: top;\n",
       "    }\n",
       "\n",
       "    .dataframe thead th {\n",
       "        text-align: right;\n",
       "    }\n",
       "</style>\n",
       "<table border=\"1\" class=\"dataframe\">\n",
       "  <thead>\n",
       "    <tr style=\"text-align: right;\">\n",
       "      <th></th>\n",
       "      <th>AirportName</th>\n",
       "      <th>ServiceUsed</th>\n",
       "      <th>Units</th>\n",
       "      <th>TimeStamp</th>\n",
       "    </tr>\n",
       "  </thead>\n",
       "  <tbody>\n",
       "    <tr>\n",
       "      <th>0</th>\n",
       "      <td>0</td>\n",
       "      <td>0</td>\n",
       "      <td>3</td>\n",
       "      <td>737634.0</td>\n",
       "    </tr>\n",
       "    <tr>\n",
       "      <th>1</th>\n",
       "      <td>0</td>\n",
       "      <td>1</td>\n",
       "      <td>3</td>\n",
       "      <td>737634.0</td>\n",
       "    </tr>\n",
       "    <tr>\n",
       "      <th>2</th>\n",
       "      <td>0</td>\n",
       "      <td>2</td>\n",
       "      <td>2</td>\n",
       "      <td>737634.0</td>\n",
       "    </tr>\n",
       "    <tr>\n",
       "      <th>3</th>\n",
       "      <td>0</td>\n",
       "      <td>4</td>\n",
       "      <td>2</td>\n",
       "      <td>737634.0</td>\n",
       "    </tr>\n",
       "    <tr>\n",
       "      <th>4</th>\n",
       "      <td>0</td>\n",
       "      <td>5</td>\n",
       "      <td>8</td>\n",
       "      <td>737634.0</td>\n",
       "    </tr>\n",
       "    <tr>\n",
       "      <th>5</th>\n",
       "      <td>0</td>\n",
       "      <td>6</td>\n",
       "      <td>4</td>\n",
       "      <td>737634.0</td>\n",
       "    </tr>\n",
       "    <tr>\n",
       "      <th>6</th>\n",
       "      <td>0</td>\n",
       "      <td>0</td>\n",
       "      <td>4</td>\n",
       "      <td>737635.0</td>\n",
       "    </tr>\n",
       "    <tr>\n",
       "      <th>7</th>\n",
       "      <td>0</td>\n",
       "      <td>1</td>\n",
       "      <td>4</td>\n",
       "      <td>737635.0</td>\n",
       "    </tr>\n",
       "    <tr>\n",
       "      <th>8</th>\n",
       "      <td>0</td>\n",
       "      <td>2</td>\n",
       "      <td>2</td>\n",
       "      <td>737635.0</td>\n",
       "    </tr>\n",
       "    <tr>\n",
       "      <th>9</th>\n",
       "      <td>0</td>\n",
       "      <td>3</td>\n",
       "      <td>3</td>\n",
       "      <td>737635.0</td>\n",
       "    </tr>\n",
       "    <tr>\n",
       "      <th>10</th>\n",
       "      <td>0</td>\n",
       "      <td>4</td>\n",
       "      <td>2</td>\n",
       "      <td>737635.0</td>\n",
       "    </tr>\n",
       "    <tr>\n",
       "      <th>11</th>\n",
       "      <td>0</td>\n",
       "      <td>5</td>\n",
       "      <td>5</td>\n",
       "      <td>737635.0</td>\n",
       "    </tr>\n",
       "    <tr>\n",
       "      <th>12</th>\n",
       "      <td>0</td>\n",
       "      <td>6</td>\n",
       "      <td>4</td>\n",
       "      <td>737635.0</td>\n",
       "    </tr>\n",
       "    <tr>\n",
       "      <th>13</th>\n",
       "      <td>0</td>\n",
       "      <td>0</td>\n",
       "      <td>3</td>\n",
       "      <td>737636.0</td>\n",
       "    </tr>\n",
       "    <tr>\n",
       "      <th>14</th>\n",
       "      <td>0</td>\n",
       "      <td>1</td>\n",
       "      <td>3</td>\n",
       "      <td>737636.0</td>\n",
       "    </tr>\n",
       "    <tr>\n",
       "      <th>15</th>\n",
       "      <td>0</td>\n",
       "      <td>2</td>\n",
       "      <td>4</td>\n",
       "      <td>737636.0</td>\n",
       "    </tr>\n",
       "    <tr>\n",
       "      <th>16</th>\n",
       "      <td>0</td>\n",
       "      <td>3</td>\n",
       "      <td>3</td>\n",
       "      <td>737636.0</td>\n",
       "    </tr>\n",
       "    <tr>\n",
       "      <th>17</th>\n",
       "      <td>0</td>\n",
       "      <td>4</td>\n",
       "      <td>3</td>\n",
       "      <td>737636.0</td>\n",
       "    </tr>\n",
       "    <tr>\n",
       "      <th>18</th>\n",
       "      <td>0</td>\n",
       "      <td>5</td>\n",
       "      <td>5</td>\n",
       "      <td>737636.0</td>\n",
       "    </tr>\n",
       "    <tr>\n",
       "      <th>19</th>\n",
       "      <td>0</td>\n",
       "      <td>6</td>\n",
       "      <td>1</td>\n",
       "      <td>737636.0</td>\n",
       "    </tr>\n",
       "    <tr>\n",
       "      <th>20</th>\n",
       "      <td>0</td>\n",
       "      <td>0</td>\n",
       "      <td>3</td>\n",
       "      <td>737637.0</td>\n",
       "    </tr>\n",
       "    <tr>\n",
       "      <th>21</th>\n",
       "      <td>0</td>\n",
       "      <td>1</td>\n",
       "      <td>2</td>\n",
       "      <td>737637.0</td>\n",
       "    </tr>\n",
       "    <tr>\n",
       "      <th>22</th>\n",
       "      <td>0</td>\n",
       "      <td>2</td>\n",
       "      <td>2</td>\n",
       "      <td>737637.0</td>\n",
       "    </tr>\n",
       "    <tr>\n",
       "      <th>23</th>\n",
       "      <td>0</td>\n",
       "      <td>4</td>\n",
       "      <td>1</td>\n",
       "      <td>737637.0</td>\n",
       "    </tr>\n",
       "    <tr>\n",
       "      <th>24</th>\n",
       "      <td>0</td>\n",
       "      <td>5</td>\n",
       "      <td>7</td>\n",
       "      <td>737637.0</td>\n",
       "    </tr>\n",
       "    <tr>\n",
       "      <th>25</th>\n",
       "      <td>0</td>\n",
       "      <td>6</td>\n",
       "      <td>3</td>\n",
       "      <td>737637.0</td>\n",
       "    </tr>\n",
       "    <tr>\n",
       "      <th>26</th>\n",
       "      <td>0</td>\n",
       "      <td>0</td>\n",
       "      <td>3</td>\n",
       "      <td>737432.0</td>\n",
       "    </tr>\n",
       "    <tr>\n",
       "      <th>27</th>\n",
       "      <td>0</td>\n",
       "      <td>1</td>\n",
       "      <td>3</td>\n",
       "      <td>737432.0</td>\n",
       "    </tr>\n",
       "    <tr>\n",
       "      <th>28</th>\n",
       "      <td>0</td>\n",
       "      <td>2</td>\n",
       "      <td>1</td>\n",
       "      <td>737432.0</td>\n",
       "    </tr>\n",
       "    <tr>\n",
       "      <th>29</th>\n",
       "      <td>0</td>\n",
       "      <td>3</td>\n",
       "      <td>1</td>\n",
       "      <td>737432.0</td>\n",
       "    </tr>\n",
       "    <tr>\n",
       "      <th>30</th>\n",
       "      <td>0</td>\n",
       "      <td>4</td>\n",
       "      <td>2</td>\n",
       "      <td>737432.0</td>\n",
       "    </tr>\n",
       "    <tr>\n",
       "      <th>31</th>\n",
       "      <td>0</td>\n",
       "      <td>5</td>\n",
       "      <td>4</td>\n",
       "      <td>737432.0</td>\n",
       "    </tr>\n",
       "    <tr>\n",
       "      <th>32</th>\n",
       "      <td>0</td>\n",
       "      <td>6</td>\n",
       "      <td>3</td>\n",
       "      <td>737432.0</td>\n",
       "    </tr>\n",
       "    <tr>\n",
       "      <th>33</th>\n",
       "      <td>0</td>\n",
       "      <td>0</td>\n",
       "      <td>1</td>\n",
       "      <td>737463.0</td>\n",
       "    </tr>\n",
       "    <tr>\n",
       "      <th>34</th>\n",
       "      <td>0</td>\n",
       "      <td>1</td>\n",
       "      <td>2</td>\n",
       "      <td>737463.0</td>\n",
       "    </tr>\n",
       "    <tr>\n",
       "      <th>35</th>\n",
       "      <td>0</td>\n",
       "      <td>2</td>\n",
       "      <td>1</td>\n",
       "      <td>737463.0</td>\n",
       "    </tr>\n",
       "    <tr>\n",
       "      <th>36</th>\n",
       "      <td>0</td>\n",
       "      <td>3</td>\n",
       "      <td>3</td>\n",
       "      <td>737463.0</td>\n",
       "    </tr>\n",
       "    <tr>\n",
       "      <th>37</th>\n",
       "      <td>0</td>\n",
       "      <td>4</td>\n",
       "      <td>2</td>\n",
       "      <td>737463.0</td>\n",
       "    </tr>\n",
       "    <tr>\n",
       "      <th>38</th>\n",
       "      <td>0</td>\n",
       "      <td>5</td>\n",
       "      <td>1</td>\n",
       "      <td>737463.0</td>\n",
       "    </tr>\n",
       "    <tr>\n",
       "      <th>39</th>\n",
       "      <td>0</td>\n",
       "      <td>6</td>\n",
       "      <td>3</td>\n",
       "      <td>737463.0</td>\n",
       "    </tr>\n",
       "    <tr>\n",
       "      <th>40</th>\n",
       "      <td>0</td>\n",
       "      <td>0</td>\n",
       "      <td>5</td>\n",
       "      <td>737492.0</td>\n",
       "    </tr>\n",
       "    <tr>\n",
       "      <th>41</th>\n",
       "      <td>0</td>\n",
       "      <td>1</td>\n",
       "      <td>1</td>\n",
       "      <td>737492.0</td>\n",
       "    </tr>\n",
       "    <tr>\n",
       "      <th>42</th>\n",
       "      <td>0</td>\n",
       "      <td>3</td>\n",
       "      <td>4</td>\n",
       "      <td>737492.0</td>\n",
       "    </tr>\n",
       "    <tr>\n",
       "      <th>43</th>\n",
       "      <td>0</td>\n",
       "      <td>5</td>\n",
       "      <td>2</td>\n",
       "      <td>737492.0</td>\n",
       "    </tr>\n",
       "    <tr>\n",
       "      <th>44</th>\n",
       "      <td>0</td>\n",
       "      <td>6</td>\n",
       "      <td>8</td>\n",
       "      <td>737492.0</td>\n",
       "    </tr>\n",
       "  </tbody>\n",
       "</table>\n",
       "</div>"
      ],
      "text/plain": [
       "    AirportName  ServiceUsed  Units  TimeStamp\n",
       "0             0            0      3   737634.0\n",
       "1             0            1      3   737634.0\n",
       "2             0            2      2   737634.0\n",
       "3             0            4      2   737634.0\n",
       "4             0            5      8   737634.0\n",
       "5             0            6      4   737634.0\n",
       "6             0            0      4   737635.0\n",
       "7             0            1      4   737635.0\n",
       "8             0            2      2   737635.0\n",
       "9             0            3      3   737635.0\n",
       "10            0            4      2   737635.0\n",
       "11            0            5      5   737635.0\n",
       "12            0            6      4   737635.0\n",
       "13            0            0      3   737636.0\n",
       "14            0            1      3   737636.0\n",
       "15            0            2      4   737636.0\n",
       "16            0            3      3   737636.0\n",
       "17            0            4      3   737636.0\n",
       "18            0            5      5   737636.0\n",
       "19            0            6      1   737636.0\n",
       "20            0            0      3   737637.0\n",
       "21            0            1      2   737637.0\n",
       "22            0            2      2   737637.0\n",
       "23            0            4      1   737637.0\n",
       "24            0            5      7   737637.0\n",
       "25            0            6      3   737637.0\n",
       "26            0            0      3   737432.0\n",
       "27            0            1      3   737432.0\n",
       "28            0            2      1   737432.0\n",
       "29            0            3      1   737432.0\n",
       "30            0            4      2   737432.0\n",
       "31            0            5      4   737432.0\n",
       "32            0            6      3   737432.0\n",
       "33            0            0      1   737463.0\n",
       "34            0            1      2   737463.0\n",
       "35            0            2      1   737463.0\n",
       "36            0            3      3   737463.0\n",
       "37            0            4      2   737463.0\n",
       "38            0            5      1   737463.0\n",
       "39            0            6      3   737463.0\n",
       "40            0            0      5   737492.0\n",
       "41            0            1      1   737492.0\n",
       "42            0            3      4   737492.0\n",
       "43            0            5      2   737492.0\n",
       "44            0            6      8   737492.0"
      ]
     },
     "execution_count": 10,
     "metadata": {},
     "output_type": "execute_result"
    }
   ],
   "source": [
    "df2"
   ]
  },
  {
   "cell_type": "code",
   "execution_count": 11,
   "metadata": {
    "colab": {},
    "colab_type": "code",
    "id": "0N26sZ3ggn6H"
   },
   "outputs": [],
   "source": [
    "array = df2.values\n",
    "x = array[:,[0,1,3]]\n",
    "y = array[:,2]"
   ]
  },
  {
   "cell_type": "code",
   "execution_count": 12,
   "metadata": {
    "colab": {},
    "colab_type": "code",
    "id": "4Z_FE2IMg50k"
   },
   "outputs": [],
   "source": [
    "from sklearn.model_selection import train_test_split\n",
    "x_train, x_test, y_train, y_test = train_test_split(x, y, test_size=0.20, random_state=109) "
   ]
  },
  {
   "cell_type": "code",
   "execution_count": 13,
   "metadata": {
    "colab": {
     "base_uri": "https://localhost:8080/",
     "height": 51
    },
    "colab_type": "code",
    "id": "O0iWMy-2hTFI",
    "outputId": "f3f9036c-e231-458e-b5e0-2a198a12b902"
   },
   "outputs": [
    {
     "data": {
      "text/plain": [
       "SVR(C=1000.0, gamma=0.1)"
      ]
     },
     "execution_count": 13,
     "metadata": {},
     "output_type": "execute_result"
    }
   ],
   "source": [
    "from sklearn import svm\n",
    "svr_rbf = svm.SVR(kernel='rbf',C= 1e3, gamma=0.1, epsilon=.1) \n",
    "svr_rbf.fit(x_train, y_train)"
   ]
  },
  {
   "cell_type": "code",
   "execution_count": 14,
   "metadata": {
    "colab": {
     "base_uri": "https://localhost:8080/",
     "height": 85
    },
    "colab_type": "code",
    "id": "ErBu-5K0plcE",
    "outputId": "7ebe166e-88e1-425a-b741-ffb120374e51"
   },
   "outputs": [
    {
     "data": {
      "text/plain": [
       "array([ 1.60477072,  2.82326924,  3.40641349,  0.45709056,  3.43224939,\n",
       "        3.66886564, -4.71631015,  3.2810196 ,  4.03891719])"
      ]
     },
     "execution_count": 14,
     "metadata": {},
     "output_type": "execute_result"
    }
   ],
   "source": [
    "y_pred=svr_rbf.predict(x_test)\n",
    "y_pred"
   ]
  },
  {
   "cell_type": "markdown",
   "metadata": {
    "colab_type": "text",
    "id": "IFbvKnJj5hCu"
   },
   "source": [
    "**S1: Arrival Baggage Belt**"
   ]
  },
  {
   "cell_type": "code",
   "execution_count": 15,
   "metadata": {
    "colab": {
     "base_uri": "https://localhost:8080/",
     "height": 68
    },
    "colab_type": "code",
    "id": "a6xA0w8nx65g",
    "outputId": "5d8411a1-70ac-4c56-be48-e1e6f5ebb5af"
   },
   "outputs": [
    {
     "data": {
      "text/plain": [
       "array([3. , 3. , 3. , 3. , 3. , 1.1, 4.9])"
      ]
     },
     "execution_count": 15,
     "metadata": {},
     "output_type": "execute_result"
    }
   ],
   "source": [
    "label_encoder = preprocessing.LabelEncoder()\n",
    "s1['ServiceUsed']= label_encoder.fit_transform(s1['ServiceUsed']) \n",
    "s1['AirportName']= label_encoder.fit_transform(s1['AirportName'])\n",
    "s1['TimeStamp'] = s1['TimeStamp'].map(mdates.date2num)\n",
    "array = s1.values\n",
    "x = array[:,[0,1,3]]\n",
    "y = array[:,2]\n",
    "x_train, x_test, y_train, y_test = train_test_split(x, y, test_size=0.30, random_state=109) \n",
    "svr_rbf = svm.SVR(kernel='rbf',C= 1e3, gamma=0.1, epsilon=.1) \n",
    "svr_rbf.fit(x_train, y_train)\n",
    "ps1 = svr_rbf.predict(x)\n",
    "ps1"
   ]
  },
  {
   "cell_type": "code",
   "execution_count": 16,
   "metadata": {
    "colab": {
     "base_uri": "https://localhost:8080/",
     "height": 34
    },
    "colab_type": "code",
    "id": "jHZXLESWLR04",
    "outputId": "7f22bdc8-595e-4804-9d7f-2a9b72340b56"
   },
   "outputs": [
    {
     "data": {
      "text/plain": [
       "21.0"
      ]
     },
     "execution_count": 16,
     "metadata": {},
     "output_type": "execute_result"
    }
   ],
   "source": [
    "len1 = sum(ps1)\n",
    "len1"
   ]
  },
  {
   "cell_type": "markdown",
   "metadata": {
    "colab_type": "text",
    "id": "QOzNMIlD5pe6"
   },
   "source": [
    "**S2: Boarding Gates**"
   ]
  },
  {
   "cell_type": "code",
   "execution_count": 17,
   "metadata": {
    "colab": {
     "base_uri": "https://localhost:8080/",
     "height": 68
    },
    "colab_type": "code",
    "id": "ERvOnJJi0TEZ",
    "outputId": "9cbb1776-16a0-4bb8-da29-d28adaf95e6d"
   },
   "outputs": [
    {
     "data": {
      "text/plain": [
       "array([2.89959289, 2.72712284, 2.41121265, 2.10020355, 1.92196551,\n",
       "       1.92196551, 1.10020355])"
      ]
     },
     "execution_count": 17,
     "metadata": {},
     "output_type": "execute_result"
    }
   ],
   "source": [
    "#label_encoder = preprocessing.LabelEncoder()\n",
    "s2['ServiceUsed']= label_encoder.fit_transform(s2['ServiceUsed']) \n",
    "s2['AirportName']= label_encoder.fit_transform(s2['AirportName'])\n",
    "s2['TimeStamp'] = s2['TimeStamp'].map(mdates.date2num)\n",
    "array = s2.values\n",
    "x = array[:,[0,1,3]]\n",
    "y = array[:,2]\n",
    "x_train, x_test, y_train, y_test = train_test_split(x, y, test_size=0.30, random_state=109) \n",
    "svr_rbf = svm.SVR(kernel='rbf',C= 1e3, gamma=0.1, epsilon=.1) \n",
    "svr_rbf.fit(x_train, y_train)\n",
    "ps2 = svr_rbf.predict(x)\n",
    "ps2"
   ]
  },
  {
   "cell_type": "code",
   "execution_count": 18,
   "metadata": {
    "colab": {
     "base_uri": "https://localhost:8080/",
     "height": 34
    },
    "colab_type": "code",
    "id": "HQ7LRXhcLk5h",
    "outputId": "956cd1b7-cde9-48cf-af96-e24ae33a8e94"
   },
   "outputs": [
    {
     "data": {
      "text/plain": [
       "15.082266504843423"
      ]
     },
     "execution_count": 18,
     "metadata": {},
     "output_type": "execute_result"
    }
   ],
   "source": [
    "len2 = sum(ps2)\n",
    "len2"
   ]
  },
  {
   "cell_type": "markdown",
   "metadata": {
    "colab_type": "text",
    "id": "BkulfCGV57cM"
   },
   "source": [
    "**S3: Currency Exchange**"
   ]
  },
  {
   "cell_type": "code",
   "execution_count": 19,
   "metadata": {
    "colab": {
     "base_uri": "https://localhost:8080/",
     "height": 68
    },
    "colab_type": "code",
    "id": "eNDYP9A2lM7H",
    "outputId": "c1527ca5-fd57-4aab-93f9-39569e363b83"
   },
   "outputs": [
    {
     "data": {
      "text/plain": [
       "array([1.89948327, 1.9392897 , 1.93959601, 1.90025837, 1.56971153,\n",
       "       1.10025837])"
      ]
     },
     "execution_count": 19,
     "metadata": {},
     "output_type": "execute_result"
    }
   ],
   "source": [
    "#label_encoder = preprocessing.LabelEncoder()\n",
    "s3['ServiceUsed']= label_encoder.fit_transform(s3['ServiceUsed']) \n",
    "s3['AirportName']= label_encoder.fit_transform(s3['AirportName'])\n",
    "s3['TimeStamp'] = s3['TimeStamp'].map(mdates.date2num)\n",
    "array = s3.values\n",
    "x = array[:,[0,1,3]]\n",
    "y = array[:,2]\n",
    "x_train, x_test, y_train, y_test = train_test_split(x, y, test_size=0.30, random_state=109) \n",
    "svr_rbf = svm.SVR(kernel='rbf',C= 1e3, gamma=0.1, epsilon=.1) \n",
    "svr_rbf.fit(x_train, y_train)\n",
    "ps3 = svr_rbf.predict(x)\n",
    "ps3"
   ]
  },
  {
   "cell_type": "code",
   "execution_count": 20,
   "metadata": {
    "colab": {
     "base_uri": "https://localhost:8080/",
     "height": 34
    },
    "colab_type": "code",
    "id": "ObF-46g7Lqx5",
    "outputId": "7bf84dc5-021c-4eff-e316-f08cb7b9dbad"
   },
   "outputs": [
    {
     "data": {
      "text/plain": [
       "10.348597239645649"
      ]
     },
     "execution_count": 20,
     "metadata": {},
     "output_type": "execute_result"
    }
   ],
   "source": [
    "len3 = sum(ps3)\n",
    "len3"
   ]
  },
  {
   "cell_type": "markdown",
   "metadata": {
    "colab_type": "text",
    "id": "NeCv-CgqJB7g"
   },
   "source": [
    "**S4: Information Desk**"
   ]
  },
  {
   "cell_type": "code",
   "execution_count": 21,
   "metadata": {
    "colab": {
     "base_uri": "https://localhost:8080/",
     "height": 68
    },
    "colab_type": "code",
    "id": "LS1028tnhebb",
    "outputId": "0f260727-2b85-4544-ae8b-ac2a5701d650"
   },
   "outputs": [
    {
     "data": {
      "text/plain": [
       "array([3.09975064, 3.09982448, 3.36236484, 3.1006004 , 3.89982448])"
      ]
     },
     "execution_count": 21,
     "metadata": {},
     "output_type": "execute_result"
    }
   ],
   "source": [
    "s4['ServiceUsed']= label_encoder.fit_transform(s4['ServiceUsed']) \n",
    "s4['AirportName']= label_encoder.fit_transform(s4['AirportName'])\n",
    "s4['TimeStamp'] = s4['TimeStamp'].map(mdates.date2num)\n",
    "array = s4.values\n",
    "x = array[:,[0,1,3]]\n",
    "y = array[:,2]\n",
    "x_train, x_test, y_train, y_test = train_test_split(x, y, test_size=0.20, random_state=109) \n",
    "svr_rbf = svm.SVR(kernel='rbf',C= 1e3, gamma=0.1, epsilon=.1) \n",
    "svr_rbf.fit(x_train, y_train)\n",
    "ps4 = svr_rbf.predict(x)\n",
    "ps4"
   ]
  },
  {
   "cell_type": "code",
   "execution_count": 22,
   "metadata": {
    "colab": {
     "base_uri": "https://localhost:8080/",
     "height": 34
    },
    "colab_type": "code",
    "id": "VLJyZAvvLujq",
    "outputId": "942c7eb3-193a-493c-e4ca-8b7aa730e2ca"
   },
   "outputs": [
    {
     "data": {
      "text/plain": [
       "16.56236483847964"
      ]
     },
     "execution_count": 22,
     "metadata": {},
     "output_type": "execute_result"
    }
   ],
   "source": [
    "len4 = sum(ps4)\n",
    "len4"
   ]
  },
  {
   "cell_type": "markdown",
   "metadata": {
    "colab_type": "text",
    "id": "1Hw2ESH8JpH1"
   },
   "source": [
    "**S5: Luggage Storage**"
   ]
  },
  {
   "cell_type": "code",
   "execution_count": 23,
   "metadata": {
    "colab": {
     "base_uri": "https://localhost:8080/",
     "height": 68
    },
    "colab_type": "code",
    "id": "UdD0ZhWdJHJR",
    "outputId": "055c5db4-05ed-4669-98e1-52f6b9401e49"
   },
   "outputs": [
    {
     "data": {
      "text/plain": [
       "array([2.10034824, 1.89960932, 1.50069244, 1.10034828, 1.64967856,\n",
       "       1.89969415])"
      ]
     },
     "execution_count": 23,
     "metadata": {},
     "output_type": "execute_result"
    }
   ],
   "source": [
    "s5['ServiceUsed']= label_encoder.fit_transform(s5['ServiceUsed']) \n",
    "s5['AirportName']= label_encoder.fit_transform(s5['AirportName'])\n",
    "s5['TimeStamp'] = s5['TimeStamp'].map(mdates.date2num)\n",
    "array = s5.values\n",
    "x = array[:,[0,1,3]]\n",
    "y = array[:,2]\n",
    "x_train, x_test, y_train, y_test = train_test_split(x, y, test_size=0.20, random_state=109) \n",
    "svr_rbf = svm.SVR(kernel='rbf',C= 1e3, gamma=0.1, epsilon=.1) \n",
    "svr_rbf.fit(x_train, y_train)\n",
    "ps5 = svr_rbf.predict(x)\n",
    "ps5"
   ]
  },
  {
   "cell_type": "code",
   "execution_count": 24,
   "metadata": {
    "colab": {
     "base_uri": "https://localhost:8080/",
     "height": 34
    },
    "colab_type": "code",
    "id": "IYSPWc6ALxeU",
    "outputId": "0d4ef982-83f3-4115-ef8b-8d05ced60645"
   },
   "outputs": [
    {
     "data": {
      "text/plain": [
       "10.15037099131339"
      ]
     },
     "execution_count": 24,
     "metadata": {},
     "output_type": "execute_result"
    }
   ],
   "source": [
    "len5 = sum(ps5)\n",
    "len5"
   ]
  },
  {
   "cell_type": "markdown",
   "metadata": {
    "colab_type": "text",
    "id": "hK4bM_N8J4Yj"
   },
   "source": [
    "**S6: Parking Stands**"
   ]
  },
  {
   "cell_type": "code",
   "execution_count": 25,
   "metadata": {
    "colab": {
     "base_uri": "https://localhost:8080/",
     "height": 68
    },
    "colab_type": "code",
    "id": "nAppaLlZJ2dK",
    "outputId": "c8fd1206-c666-4a1b-e06c-deea197e1aac"
   },
   "outputs": [
    {
     "data": {
      "text/plain": [
       "array([7.90000452, 5.10019785, 4.79992383, 6.89968704, 5.35030147,\n",
       "       1.0996875 , 2.10042289])"
      ]
     },
     "execution_count": 25,
     "metadata": {},
     "output_type": "execute_result"
    }
   ],
   "source": [
    "s6['ServiceUsed']= label_encoder.fit_transform(s6['ServiceUsed']) \n",
    "s6['AirportName']= label_encoder.fit_transform(s6['AirportName'])\n",
    "s6['TimeStamp'] = s6['TimeStamp'].map(mdates.date2num)\n",
    "array = s6.values\n",
    "x = array[:,[0,1,3]]\n",
    "y = array[:,2]\n",
    "x_train, x_test, y_train, y_test = train_test_split(x, y, test_size=0.20, random_state=109) \n",
    "svr_rbf = svm.SVR(kernel='rbf',C= 1e3, gamma=0.1, epsilon=.1) \n",
    "svr_rbf.fit(x_train, y_train)\n",
    "ps6 = svr_rbf.predict(x)\n",
    "ps6"
   ]
  },
  {
   "cell_type": "code",
   "execution_count": 26,
   "metadata": {
    "colab": {
     "base_uri": "https://localhost:8080/",
     "height": 34
    },
    "colab_type": "code",
    "id": "0iTflo_dL05a",
    "outputId": "78294af4-4fd6-4515-8125-2c3db28992ee"
   },
   "outputs": [
    {
     "data": {
      "text/plain": [
       "33.25022509162893"
      ]
     },
     "execution_count": 26,
     "metadata": {},
     "output_type": "execute_result"
    }
   ],
   "source": [
    "len6 = sum(ps6)\n",
    "len6"
   ]
  },
  {
   "cell_type": "markdown",
   "metadata": {
    "colab_type": "text",
    "id": "M6jXgxOeKZ8M"
   },
   "source": [
    "**S7: Trolleys**"
   ]
  },
  {
   "cell_type": "code",
   "execution_count": 27,
   "metadata": {
    "colab": {
     "base_uri": "https://localhost:8080/",
     "height": 85
    },
    "colab_type": "code",
    "id": "HaIcL2h_KWL1",
    "outputId": "50426ca6-3a5f-47d4-ad22-f61849626a3b"
   },
   "outputs": [
    {
     "data": {
      "text/plain": [
       "array([4.10065201, 3.89972816, 3.49648675, 3.09972821, 4.60214052,\n",
       "       3.0999458 , 7.8999458 ])"
      ]
     },
     "execution_count": 27,
     "metadata": {},
     "output_type": "execute_result"
    }
   ],
   "source": [
    "s7['ServiceUsed']= label_encoder.fit_transform(s7['ServiceUsed']) \n",
    "s7['AirportName']= label_encoder.fit_transform(s7['AirportName'])\n",
    "s7['TimeStamp'] = s7['TimeStamp'].map(mdates.date2num)\n",
    "array = s7.values\n",
    "x = array[:,[0,1,3]]\n",
    "y = array[:,2]\n",
    "x_train, x_test, y_train, y_test = train_test_split(x, y, test_size=0.20, random_state=109) \n",
    "svr_rbf = svm.SVR(kernel='rbf',C= 1e3, gamma=0.1, epsilon=.1) \n",
    "svr_rbf.fit(x_train, y_train)\n",
    "ps7 = svr_rbf.predict(x)\n",
    "ps7"
   ]
  },
  {
   "cell_type": "code",
   "execution_count": 28,
   "metadata": {
    "colab": {
     "base_uri": "https://localhost:8080/",
     "height": 34
    },
    "colab_type": "code",
    "id": "mOMkB68GL4Qh",
    "outputId": "89bd2ea7-7bd0-40cd-b927-fecff87ad873"
   },
   "outputs": [
    {
     "data": {
      "text/plain": [
       "30.198627265783824"
      ]
     },
     "execution_count": 28,
     "metadata": {},
     "output_type": "execute_result"
    }
   ],
   "source": [
    "len7 = sum(ps7)\n",
    "len7"
   ]
  },
  {
   "cell_type": "code",
   "execution_count": 30,
   "metadata": {
    "colab": {
     "base_uri": "https://localhost:8080/",
     "height": 542
    },
    "colab_type": "code",
    "id": "1kxF4I_XTC0A",
    "outputId": "f6ef91d2-ca3a-4e2d-da82-f25cc25a0595"
   },
   "outputs": [
    {
     "data": {
      "text/plain": [
       "'gannavaram.html'"
      ]
     },
     "execution_count": 30,
     "metadata": {},
     "output_type": "execute_result"
    }
   ],
   "source": [
    "label = ['Arrival Baggage Belt','Boarding Gates','Currency Exchange','Information Desk','Luggage Storage','Parking Stands','Trolleys']\n",
    "fig = make_subplots(rows=1, cols=2, specs=[[{\"type\": \"bar\"}, {\"type\": \"pie\"}]], subplot_titles=['Bar Chart', 'Pie Chart'])\n",
    "trace1=go.Bar(\n",
    "    x=label,\n",
    "    y=[len1,len2,len3,len4,len5,len6,len7],\n",
    "    name=\"\",\n",
    "    marker = {'color' : ['cyan','darkviolet','red','green','blue','orange'] }\n",
    "    )\n",
    "\n",
    "trace2=go.Pie(values=[len1,len2,len3,len4,len5,len6,len7],\n",
    "labels=label,\n",
    "name=\"\")\n",
    "fig.add_trace(trace1,row=1, col=1)\n",
    "fig.add_trace(trace2,row=1, col=2)\n",
    "\n",
    "fig.update_layout(title='Gannavaram Airport Service Consumption', xaxis={'title':'Service name'},\n",
    "    yaxis={'title':'Units of Comsumption'})\n",
    "plotly.offline.plot(fig, filename='C:\\\\xampp\\\\htdocs\\\\Project\\\\gannavaram.html',validate=False)\n"
   ]
  },
  {
   "cell_type": "code",
   "execution_count": null,
   "metadata": {},
   "outputs": [],
   "source": []
  }
 ],
 "metadata": {
  "colab": {
   "collapsed_sections": [],
   "name": "SVMOverall.ipynb",
   "provenance": [],
   "toc_visible": true
  },
  "kernelspec": {
   "display_name": "Python 3",
   "language": "python",
   "name": "python3"
  },
  "language_info": {
   "codemirror_mode": {
    "name": "ipython",
    "version": 3
   },
   "file_extension": ".py",
   "mimetype": "text/x-python",
   "name": "python",
   "nbconvert_exporter": "python",
   "pygments_lexer": "ipython3",
   "version": "3.8.3"
  }
 },
 "nbformat": 4,
 "nbformat_minor": 4
}
