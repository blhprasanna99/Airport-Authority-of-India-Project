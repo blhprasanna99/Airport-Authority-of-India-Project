{
 "cells": [
  {
   "cell_type": "code",
   "execution_count": 1,
   "metadata": {
    "colab": {},
    "colab_type": "code",
    "id": "4I3MhNSS3TKE"
   },
   "outputs": [],
   "source": [
    "import numpy as np\n",
    "import matplotlib.pyplot as plt\n",
    "import pandas as pd\n",
    "import warnings\n",
    "from sklearn import preprocessing\n",
    "warnings.filterwarnings('ignore')\n",
    "from time import time\n",
    "%matplotlib inline\n",
    "import plotly\n",
    "import datetime\n",
    "import matplotlib.dates as mdates\n",
    "import plotly.graph_objs as go\n",
    "from plotly.offline import plot\n",
    "from plotly.subplots import make_subplots\n",
    "import os\n",
    "os.getcwd()\n",
    "os.chdir(\"C:/Users/Lekhasree Uddanti/Desktop/SVMModel\")"
   ]
  },
  {
   "cell_type": "code",
   "execution_count": 2,
   "metadata": {
    "colab": {
     "base_uri": "https://localhost:8080/",
     "height": 221
    },
    "colab_type": "code",
    "id": "2am_CDtQ4BJD",
    "outputId": "52cba9b0-949a-487e-9735-b4fb9a6c595d"
   },
   "outputs": [
    {
     "name": "stdout",
     "output_type": "stream",
     "text": [
      "Number of rows and columns: (34, 4)\n"
     ]
    },
    {
     "data": {
      "text/html": [
       "<div>\n",
       "<style scoped>\n",
       "    .dataframe tbody tr th:only-of-type {\n",
       "        vertical-align: middle;\n",
       "    }\n",
       "\n",
       "    .dataframe tbody tr th {\n",
       "        vertical-align: top;\n",
       "    }\n",
       "\n",
       "    .dataframe thead th {\n",
       "        text-align: right;\n",
       "    }\n",
       "</style>\n",
       "<table border=\"1\" class=\"dataframe\">\n",
       "  <thead>\n",
       "    <tr style=\"text-align: right;\">\n",
       "      <th></th>\n",
       "      <th>AirportName</th>\n",
       "      <th>TimeStamp</th>\n",
       "      <th>BarcodeData</th>\n",
       "      <th>ServiceUsed</th>\n",
       "    </tr>\n",
       "  </thead>\n",
       "  <tbody>\n",
       "    <tr>\n",
       "      <th>0</th>\n",
       "      <td>Hyderabad</td>\n",
       "      <td>7/28/2020 4:39</td>\n",
       "      <td>7.060000e+11</td>\n",
       "      <td>Arrival Baggage Belt</td>\n",
       "    </tr>\n",
       "    <tr>\n",
       "      <th>1</th>\n",
       "      <td>Hyderabad</td>\n",
       "      <td>7/28/2020 6:39</td>\n",
       "      <td>7.060000e+11</td>\n",
       "      <td>Parking Stands</td>\n",
       "    </tr>\n",
       "    <tr>\n",
       "      <th>2</th>\n",
       "      <td>Hyderabad</td>\n",
       "      <td>7/28/2020 7:39</td>\n",
       "      <td>7.060000e+11</td>\n",
       "      <td>Boarding Gates</td>\n",
       "    </tr>\n",
       "    <tr>\n",
       "      <th>3</th>\n",
       "      <td>Hyderabad</td>\n",
       "      <td>7/28/2020 8:39</td>\n",
       "      <td>7.060000e+11</td>\n",
       "      <td>Trolleys</td>\n",
       "    </tr>\n",
       "    <tr>\n",
       "      <th>4</th>\n",
       "      <td>Hyderabad</td>\n",
       "      <td>7/28/2020 9:39</td>\n",
       "      <td>7.060000e+11</td>\n",
       "      <td>Currency Exchange</td>\n",
       "    </tr>\n",
       "  </tbody>\n",
       "</table>\n",
       "</div>"
      ],
      "text/plain": [
       "  AirportName       TimeStamp   BarcodeData           ServiceUsed\n",
       "0   Hyderabad  7/28/2020 4:39  7.060000e+11  Arrival Baggage Belt\n",
       "1   Hyderabad  7/28/2020 6:39  7.060000e+11        Parking Stands\n",
       "2   Hyderabad  7/28/2020 7:39  7.060000e+11        Boarding Gates\n",
       "3   Hyderabad  7/28/2020 8:39  7.060000e+11              Trolleys\n",
       "4   Hyderabad  7/28/2020 9:39  7.060000e+11     Currency Exchange"
      ]
     },
     "execution_count": 2,
     "metadata": {},
     "output_type": "execute_result"
    }
   ],
   "source": [
    "#data1=pd.read_csv('/content/GannavaramAirportData.csv')\n",
    "df=pd.read_csv('HyderabadAirportData.csv')\n",
    "#data3=pd.read_csv('/content/DelhiAirportData.csv')\n",
    "print('Number of rows and columns:', df.shape)\n",
    "df.head(5)"
   ]
  },
  {
   "cell_type": "code",
   "execution_count": 3,
   "metadata": {
    "colab": {},
    "colab_type": "code",
    "id": "z-9zZcF0IsH-"
   },
   "outputs": [],
   "source": [
    "df['TimeStamp']=pd.to_datetime(df['TimeStamp']) \n",
    "df['year'] = df['TimeStamp'].apply(lambda x: x.year)\n",
    "df['month'] = df['TimeStamp'].apply(lambda x: x.month)\n",
    "df['day'] = df['TimeStamp'].apply(lambda x: x.day)\n",
    "df.sort_values('TimeStamp', inplace=True, ascending=True)"
   ]
  },
  {
   "cell_type": "code",
   "execution_count": 4,
   "metadata": {
    "colab": {
     "base_uri": "https://localhost:8080/",
     "height": 419
    },
    "colab_type": "code",
    "id": "3--47BYqNcUV",
    "outputId": "210ad909-7c3e-4e78-ad1c-c71ed126b218"
   },
   "outputs": [
    {
     "data": {
      "text/html": [
       "<div>\n",
       "<style scoped>\n",
       "    .dataframe tbody tr th:only-of-type {\n",
       "        vertical-align: middle;\n",
       "    }\n",
       "\n",
       "    .dataframe tbody tr th {\n",
       "        vertical-align: top;\n",
       "    }\n",
       "\n",
       "    .dataframe thead th {\n",
       "        text-align: right;\n",
       "    }\n",
       "</style>\n",
       "<table border=\"1\" class=\"dataframe\">\n",
       "  <thead>\n",
       "    <tr style=\"text-align: right;\">\n",
       "      <th></th>\n",
       "      <th>AirportName</th>\n",
       "      <th>year</th>\n",
       "      <th>month</th>\n",
       "      <th>day</th>\n",
       "      <th>ServiceUsed</th>\n",
       "      <th>Units</th>\n",
       "    </tr>\n",
       "  </thead>\n",
       "  <tbody>\n",
       "    <tr>\n",
       "      <th>0</th>\n",
       "      <td>Hyderabad</td>\n",
       "      <td>2020</td>\n",
       "      <td>7</td>\n",
       "      <td>28</td>\n",
       "      <td>Arrival Baggage Belt</td>\n",
       "      <td>4</td>\n",
       "    </tr>\n",
       "    <tr>\n",
       "      <th>1</th>\n",
       "      <td>Hyderabad</td>\n",
       "      <td>2020</td>\n",
       "      <td>7</td>\n",
       "      <td>28</td>\n",
       "      <td>Boarding Gates</td>\n",
       "      <td>4</td>\n",
       "    </tr>\n",
       "    <tr>\n",
       "      <th>2</th>\n",
       "      <td>Hyderabad</td>\n",
       "      <td>2020</td>\n",
       "      <td>7</td>\n",
       "      <td>28</td>\n",
       "      <td>Currency Exchange</td>\n",
       "      <td>1</td>\n",
       "    </tr>\n",
       "    <tr>\n",
       "      <th>3</th>\n",
       "      <td>Hyderabad</td>\n",
       "      <td>2020</td>\n",
       "      <td>7</td>\n",
       "      <td>28</td>\n",
       "      <td>Information Desk</td>\n",
       "      <td>2</td>\n",
       "    </tr>\n",
       "    <tr>\n",
       "      <th>4</th>\n",
       "      <td>Hyderabad</td>\n",
       "      <td>2020</td>\n",
       "      <td>7</td>\n",
       "      <td>28</td>\n",
       "      <td>Luggage Storage</td>\n",
       "      <td>2</td>\n",
       "    </tr>\n",
       "    <tr>\n",
       "      <th>5</th>\n",
       "      <td>Hyderabad</td>\n",
       "      <td>2020</td>\n",
       "      <td>7</td>\n",
       "      <td>28</td>\n",
       "      <td>Parking Stands</td>\n",
       "      <td>3</td>\n",
       "    </tr>\n",
       "    <tr>\n",
       "      <th>6</th>\n",
       "      <td>Hyderabad</td>\n",
       "      <td>2020</td>\n",
       "      <td>7</td>\n",
       "      <td>28</td>\n",
       "      <td>Trolleys</td>\n",
       "      <td>5</td>\n",
       "    </tr>\n",
       "    <tr>\n",
       "      <th>7</th>\n",
       "      <td>Hyderabad</td>\n",
       "      <td>2020</td>\n",
       "      <td>7</td>\n",
       "      <td>29</td>\n",
       "      <td>Arrival Baggage Belt</td>\n",
       "      <td>3</td>\n",
       "    </tr>\n",
       "    <tr>\n",
       "      <th>8</th>\n",
       "      <td>Hyderabad</td>\n",
       "      <td>2020</td>\n",
       "      <td>7</td>\n",
       "      <td>29</td>\n",
       "      <td>Information Desk</td>\n",
       "      <td>4</td>\n",
       "    </tr>\n",
       "    <tr>\n",
       "      <th>9</th>\n",
       "      <td>Hyderabad</td>\n",
       "      <td>2020</td>\n",
       "      <td>7</td>\n",
       "      <td>29</td>\n",
       "      <td>Trolleys</td>\n",
       "      <td>6</td>\n",
       "    </tr>\n",
       "  </tbody>\n",
       "</table>\n",
       "</div>"
      ],
      "text/plain": [
       "  AirportName  year  month  day           ServiceUsed  Units\n",
       "0   Hyderabad  2020      7   28  Arrival Baggage Belt      4\n",
       "1   Hyderabad  2020      7   28        Boarding Gates      4\n",
       "2   Hyderabad  2020      7   28     Currency Exchange      1\n",
       "3   Hyderabad  2020      7   28      Information Desk      2\n",
       "4   Hyderabad  2020      7   28       Luggage Storage      2\n",
       "5   Hyderabad  2020      7   28        Parking Stands      3\n",
       "6   Hyderabad  2020      7   28              Trolleys      5\n",
       "7   Hyderabad  2020      7   29  Arrival Baggage Belt      3\n",
       "8   Hyderabad  2020      7   29      Information Desk      4\n",
       "9   Hyderabad  2020      7   29              Trolleys      6"
      ]
     },
     "execution_count": 4,
     "metadata": {},
     "output_type": "execute_result"
    }
   ],
   "source": [
    "df1 = df.groupby([\"AirportName\",\"year\",\"month\",\"day\",\"ServiceUsed\"]).size().reset_index(name=\"Units\")\n",
    "df1"
   ]
  },
  {
   "cell_type": "code",
   "execution_count": 5,
   "metadata": {
    "colab": {
     "base_uri": "https://localhost:8080/",
     "height": 419
    },
    "colab_type": "code",
    "id": "1clfoxNndkz2",
    "outputId": "7986164f-12b9-4c9b-f026-03b25e6691f3"
   },
   "outputs": [
    {
     "data": {
      "text/html": [
       "<div>\n",
       "<style scoped>\n",
       "    .dataframe tbody tr th:only-of-type {\n",
       "        vertical-align: middle;\n",
       "    }\n",
       "\n",
       "    .dataframe tbody tr th {\n",
       "        vertical-align: top;\n",
       "    }\n",
       "\n",
       "    .dataframe thead th {\n",
       "        text-align: right;\n",
       "    }\n",
       "</style>\n",
       "<table border=\"1\" class=\"dataframe\">\n",
       "  <thead>\n",
       "    <tr style=\"text-align: right;\">\n",
       "      <th></th>\n",
       "      <th>AirportName</th>\n",
       "      <th>ServiceUsed</th>\n",
       "      <th>Units</th>\n",
       "      <th>TimeStamp</th>\n",
       "    </tr>\n",
       "  </thead>\n",
       "  <tbody>\n",
       "    <tr>\n",
       "      <th>0</th>\n",
       "      <td>Hyderabad</td>\n",
       "      <td>Arrival Baggage Belt</td>\n",
       "      <td>4</td>\n",
       "      <td>2020-07-28</td>\n",
       "    </tr>\n",
       "    <tr>\n",
       "      <th>1</th>\n",
       "      <td>Hyderabad</td>\n",
       "      <td>Boarding Gates</td>\n",
       "      <td>4</td>\n",
       "      <td>2020-07-28</td>\n",
       "    </tr>\n",
       "    <tr>\n",
       "      <th>2</th>\n",
       "      <td>Hyderabad</td>\n",
       "      <td>Currency Exchange</td>\n",
       "      <td>1</td>\n",
       "      <td>2020-07-28</td>\n",
       "    </tr>\n",
       "    <tr>\n",
       "      <th>3</th>\n",
       "      <td>Hyderabad</td>\n",
       "      <td>Information Desk</td>\n",
       "      <td>2</td>\n",
       "      <td>2020-07-28</td>\n",
       "    </tr>\n",
       "    <tr>\n",
       "      <th>4</th>\n",
       "      <td>Hyderabad</td>\n",
       "      <td>Luggage Storage</td>\n",
       "      <td>2</td>\n",
       "      <td>2020-07-28</td>\n",
       "    </tr>\n",
       "    <tr>\n",
       "      <th>5</th>\n",
       "      <td>Hyderabad</td>\n",
       "      <td>Parking Stands</td>\n",
       "      <td>3</td>\n",
       "      <td>2020-07-28</td>\n",
       "    </tr>\n",
       "    <tr>\n",
       "      <th>6</th>\n",
       "      <td>Hyderabad</td>\n",
       "      <td>Trolleys</td>\n",
       "      <td>5</td>\n",
       "      <td>2020-07-28</td>\n",
       "    </tr>\n",
       "    <tr>\n",
       "      <th>7</th>\n",
       "      <td>Hyderabad</td>\n",
       "      <td>Arrival Baggage Belt</td>\n",
       "      <td>3</td>\n",
       "      <td>2020-07-29</td>\n",
       "    </tr>\n",
       "    <tr>\n",
       "      <th>8</th>\n",
       "      <td>Hyderabad</td>\n",
       "      <td>Information Desk</td>\n",
       "      <td>4</td>\n",
       "      <td>2020-07-29</td>\n",
       "    </tr>\n",
       "    <tr>\n",
       "      <th>9</th>\n",
       "      <td>Hyderabad</td>\n",
       "      <td>Trolleys</td>\n",
       "      <td>6</td>\n",
       "      <td>2020-07-29</td>\n",
       "    </tr>\n",
       "  </tbody>\n",
       "</table>\n",
       "</div>"
      ],
      "text/plain": [
       "  AirportName           ServiceUsed  Units  TimeStamp\n",
       "0   Hyderabad  Arrival Baggage Belt      4 2020-07-28\n",
       "1   Hyderabad        Boarding Gates      4 2020-07-28\n",
       "2   Hyderabad     Currency Exchange      1 2020-07-28\n",
       "3   Hyderabad      Information Desk      2 2020-07-28\n",
       "4   Hyderabad       Luggage Storage      2 2020-07-28\n",
       "5   Hyderabad        Parking Stands      3 2020-07-28\n",
       "6   Hyderabad              Trolleys      5 2020-07-28\n",
       "7   Hyderabad  Arrival Baggage Belt      3 2020-07-29\n",
       "8   Hyderabad      Information Desk      4 2020-07-29\n",
       "9   Hyderabad              Trolleys      6 2020-07-29"
      ]
     },
     "execution_count": 5,
     "metadata": {},
     "output_type": "execute_result"
    }
   ],
   "source": [
    "dt = pd.to_datetime(df1['day'].astype(str)+\"/\"+df1['month'].astype(str)+\"/\"+df1[\"year\"].astype(str))\n",
    "df2 = df1.iloc[: , [0, 4, 5]].copy() \n",
    "df2['TimeStamp'] = dt\n",
    "df2"
   ]
  },
  {
   "cell_type": "code",
   "execution_count": 6,
   "metadata": {
    "colab": {
     "base_uri": "https://localhost:8080/",
     "height": 407
    },
    "colab_type": "code",
    "id": "eYjUI0rAjBna",
    "outputId": "262ca331-1300-42af-e50f-8a6616852d48"
   },
   "outputs": [
    {
     "data": {
      "text/plain": [
       "Text(0.5, 1.0, 'Service Usage')"
      ]
     },
     "execution_count": 6,
     "metadata": {},
     "output_type": "execute_result"
    },
    {
     "data": {
      "image/png": "[encoded data removed]",
      "text/plain": [
       "<Figure size 1008x432 with 1 Axes>"
      ]
     },
     "metadata": {
      "needs_background": "light"
     },
     "output_type": "display_data"
    }
   ],
   "source": [
    "plt.figure(figsize=(14,6))\n",
    "plt.subplot(1,2,1)\n",
    "df1['ServiceUsed'].hist(bins=50)\n",
    "plt.title('Service Usage')"
   ]
  },
  {
   "cell_type": "code",
   "execution_count": 7,
   "metadata": {
    "colab": {},
    "colab_type": "code",
    "id": "eshDla2ewQkk"
   },
   "outputs": [],
   "source": [
    "s1 = df2.loc[df2['ServiceUsed'] == 'Arrival Baggage Belt'] \n",
    "s2 = df2.loc[df2['ServiceUsed'] == 'Boarding Gates'] \n",
    "s3 = df2.loc[df2['ServiceUsed'] == 'Currency Exchange']\n",
    "s4 = df2.loc[df2['ServiceUsed'] == 'Information Desk']\n",
    "s5 = df2.loc[df2['ServiceUsed'] == 'Luggage Storage']\n",
    "s6 = df2.loc[df2['ServiceUsed'] == 'Parking Stands']\n",
    "s7 = df2.loc[df2['ServiceUsed'] == 'Trolleys']"
   ]
  },
  {
   "cell_type": "code",
   "execution_count": 8,
   "metadata": {
    "colab": {},
    "colab_type": "code",
    "id": "RjAX_Rl6bPpW"
   },
   "outputs": [],
   "source": [
    "from sklearn.preprocessing import LabelEncoder\n",
    "label_encoder = preprocessing.LabelEncoder()\n",
    "df2['ServiceUsed']= label_encoder.fit_transform(df2['ServiceUsed']) \n",
    "df2['AirportName']= label_encoder.fit_transform(df2['AirportName'])\n",
    "df2['TimeStamp'] = df2['TimeStamp'].map(mdates.date2num)"
   ]
  },
  {
   "cell_type": "code",
   "execution_count": 9,
   "metadata": {
    "colab": {
     "base_uri": "https://localhost:8080/",
     "height": 419
    },
    "colab_type": "code",
    "id": "KOsveQNupjwp",
    "outputId": "17e39b0c-c14c-41e7-e88e-c21188098a13"
   },
   "outputs": [
    {
     "data": {
      "text/html": [
       "<div>\n",
       "<style scoped>\n",
       "    .dataframe tbody tr th:only-of-type {\n",
       "        vertical-align: middle;\n",
       "    }\n",
       "\n",
       "    .dataframe tbody tr th {\n",
       "        vertical-align: top;\n",
       "    }\n",
       "\n",
       "    .dataframe thead th {\n",
       "        text-align: right;\n",
       "    }\n",
       "</style>\n",
       "<table border=\"1\" class=\"dataframe\">\n",
       "  <thead>\n",
       "    <tr style=\"text-align: right;\">\n",
       "      <th></th>\n",
       "      <th>AirportName</th>\n",
       "      <th>ServiceUsed</th>\n",
       "      <th>Units</th>\n",
       "      <th>TimeStamp</th>\n",
       "    </tr>\n",
       "  </thead>\n",
       "  <tbody>\n",
       "    <tr>\n",
       "      <th>0</th>\n",
       "      <td>0</td>\n",
       "      <td>0</td>\n",
       "      <td>4</td>\n",
       "      <td>737634.0</td>\n",
       "    </tr>\n",
       "    <tr>\n",
       "      <th>1</th>\n",
       "      <td>0</td>\n",
       "      <td>1</td>\n",
       "      <td>4</td>\n",
       "      <td>737634.0</td>\n",
       "    </tr>\n",
       "    <tr>\n",
       "      <th>2</th>\n",
       "      <td>0</td>\n",
       "      <td>2</td>\n",
       "      <td>1</td>\n",
       "      <td>737634.0</td>\n",
       "    </tr>\n",
       "    <tr>\n",
       "      <th>3</th>\n",
       "      <td>0</td>\n",
       "      <td>3</td>\n",
       "      <td>2</td>\n",
       "      <td>737634.0</td>\n",
       "    </tr>\n",
       "    <tr>\n",
       "      <th>4</th>\n",
       "      <td>0</td>\n",
       "      <td>4</td>\n",
       "      <td>2</td>\n",
       "      <td>737634.0</td>\n",
       "    </tr>\n",
       "    <tr>\n",
       "      <th>5</th>\n",
       "      <td>0</td>\n",
       "      <td>5</td>\n",
       "      <td>3</td>\n",
       "      <td>737634.0</td>\n",
       "    </tr>\n",
       "    <tr>\n",
       "      <th>6</th>\n",
       "      <td>0</td>\n",
       "      <td>6</td>\n",
       "      <td>5</td>\n",
       "      <td>737634.0</td>\n",
       "    </tr>\n",
       "    <tr>\n",
       "      <th>7</th>\n",
       "      <td>0</td>\n",
       "      <td>0</td>\n",
       "      <td>3</td>\n",
       "      <td>737635.0</td>\n",
       "    </tr>\n",
       "    <tr>\n",
       "      <th>8</th>\n",
       "      <td>0</td>\n",
       "      <td>3</td>\n",
       "      <td>4</td>\n",
       "      <td>737635.0</td>\n",
       "    </tr>\n",
       "    <tr>\n",
       "      <th>9</th>\n",
       "      <td>0</td>\n",
       "      <td>6</td>\n",
       "      <td>6</td>\n",
       "      <td>737635.0</td>\n",
       "    </tr>\n",
       "  </tbody>\n",
       "</table>\n",
       "</div>"
      ],
      "text/plain": [
       "   AirportName  ServiceUsed  Units  TimeStamp\n",
       "0            0            0      4   737634.0\n",
       "1            0            1      4   737634.0\n",
       "2            0            2      1   737634.0\n",
       "3            0            3      2   737634.0\n",
       "4            0            4      2   737634.0\n",
       "5            0            5      3   737634.0\n",
       "6            0            6      5   737634.0\n",
       "7            0            0      3   737635.0\n",
       "8            0            3      4   737635.0\n",
       "9            0            6      6   737635.0"
      ]
     },
     "execution_count": 9,
     "metadata": {},
     "output_type": "execute_result"
    }
   ],
   "source": [
    "df2"
   ]
  },
  {
   "cell_type": "code",
   "execution_count": 10,
   "metadata": {
    "colab": {},
    "colab_type": "code",
    "id": "0N26sZ3ggn6H"
   },
   "outputs": [],
   "source": [
    "array = df2.values\n",
    "x = array[:,[0,1,3]]\n",
    "y = array[:,2]"
   ]
  },
  {
   "cell_type": "code",
   "execution_count": 11,
   "metadata": {
    "colab": {},
    "colab_type": "code",
    "id": "4Z_FE2IMg50k"
   },
   "outputs": [],
   "source": [
    "from sklearn.model_selection import train_test_split\n",
    "x_train, x_test, y_train, y_test = train_test_split(x, y, test_size=0.20, random_state=109) "
   ]
  },
  {
   "cell_type": "code",
   "execution_count": 12,
   "metadata": {
    "colab": {
     "base_uri": "https://localhost:8080/",
     "height": 51
    },
    "colab_type": "code",
    "id": "O0iWMy-2hTFI",
    "outputId": "f3f9036c-e231-458e-b5e0-2a198a12b902"
   },
   "outputs": [
    {
     "data": {
      "text/plain": [
       "SVR(C=1000.0, gamma=0.1)"
      ]
     },
     "execution_count": 12,
     "metadata": {},
     "output_type": "execute_result"
    }
   ],
   "source": [
    "from sklearn import svm\n",
    "svr_rbf = svm.SVR(kernel='rbf',C= 1e3, gamma=0.1, epsilon=.1) \n",
    "svr_rbf.fit(x_train, y_train)"
   ]
  },
  {
   "cell_type": "code",
   "execution_count": 13,
   "metadata": {
    "colab": {
     "base_uri": "https://localhost:8080/",
     "height": 85
    },
    "colab_type": "code",
    "id": "ErBu-5K0plcE",
    "outputId": "7ebe166e-88e1-425a-b741-ffb120374e51"
   },
   "outputs": [
    {
     "data": {
      "text/plain": [
       "array([3.10749584, 1.94492952])"
      ]
     },
     "execution_count": 13,
     "metadata": {},
     "output_type": "execute_result"
    }
   ],
   "source": [
    "y_pred=svr_rbf.predict(x_test)\n",
    "y_pred"
   ]
  },
  {
   "cell_type": "markdown",
   "metadata": {
    "colab_type": "text",
    "id": "IFbvKnJj5hCu"
   },
   "source": [
    "**S1: Arrival Baggage Belt**"
   ]
  },
  {
   "cell_type": "code",
   "execution_count": 14,
   "metadata": {
    "colab": {
     "base_uri": "https://localhost:8080/",
     "height": 68
    },
    "colab_type": "code",
    "id": "a6xA0w8nx65g",
    "outputId": "5d8411a1-70ac-4c56-be48-e1e6f5ebb5af"
   },
   "outputs": [
    {
     "data": {
      "text/plain": [
       "array([4., 4.])"
      ]
     },
     "execution_count": 14,
     "metadata": {},
     "output_type": "execute_result"
    }
   ],
   "source": [
    "label_encoder = preprocessing.LabelEncoder()\n",
    "s1['ServiceUsed']= label_encoder.fit_transform(s1['ServiceUsed']) \n",
    "s1['AirportName']= label_encoder.fit_transform(s1['AirportName'])\n",
    "s1['TimeStamp'] = s1['TimeStamp'].map(mdates.date2num)\n",
    "array = s1.values\n",
    "x = array[:,[0,1,3]]\n",
    "y = array[:,2]\n",
    "x_train, x_test, y_train, y_test = train_test_split(x, y, test_size=0.30, random_state=109) \n",
    "svr_rbf = svm.SVR(kernel='rbf',C= 1e3, gamma=0.1, epsilon=.1) \n",
    "svr_rbf.fit(x_train, y_train)\n",
    "ps1 = svr_rbf.predict(x)\n",
    "ps1"
   ]
  },
  {
   "cell_type": "code",
   "execution_count": 15,
   "metadata": {
    "colab": {
     "base_uri": "https://localhost:8080/",
     "height": 34
    },
    "colab_type": "code",
    "id": "jHZXLESWLR04",
    "outputId": "7f22bdc8-595e-4804-9d7f-2a9b72340b56"
   },
   "outputs": [
    {
     "data": {
      "text/plain": [
       "8.0"
      ]
     },
     "execution_count": 15,
     "metadata": {},
     "output_type": "execute_result"
    }
   ],
   "source": [
    "len1 = sum(ps1)\n",
    "len1"
   ]
  },
  {
   "cell_type": "markdown",
   "metadata": {
    "colab_type": "text",
    "id": "QOzNMIlD5pe6"
   },
   "source": [
    "**S2: Boarding Gates**"
   ]
  },
  {
   "cell_type": "code",
   "execution_count": 16,
   "metadata": {
    "colab": {
     "base_uri": "https://localhost:8080/",
     "height": 68
    },
    "colab_type": "code",
    "id": "ERvOnJJi0TEZ",
    "outputId": "9cbb1776-16a0-4bb8-da29-d28adaf95e6d"
   },
   "outputs": [
    {
     "data": {
      "text/plain": [
       "array([4.])"
      ]
     },
     "execution_count": 16,
     "metadata": {},
     "output_type": "execute_result"
    }
   ],
   "source": [
    "#label_encoder = preprocessing.LabelEncoder()\n",
    "s2['ServiceUsed']= label_encoder.fit_transform(s2['ServiceUsed']) \n",
    "s2['AirportName']= label_encoder.fit_transform(s2['AirportName'])\n",
    "s2['TimeStamp'] = s2['TimeStamp'].map(mdates.date2num)\n",
    "array = s2.values\n",
    "x = array[:,[0,1,3]]\n",
    "y = array[:,2]\n",
    "x_train,y_train= x,y\n",
    "svr_rbf = svm.SVR(kernel='rbf',C= 1e3, gamma=0.1, epsilon=.1) \n",
    "svr_rbf.fit(x_train, y_train)\n",
    "ps2 = svr_rbf.predict(x)\n",
    "ps2"
   ]
  },
  {
   "cell_type": "code",
   "execution_count": 17,
   "metadata": {
    "colab": {
     "base_uri": "https://localhost:8080/",
     "height": 34
    },
    "colab_type": "code",
    "id": "HQ7LRXhcLk5h",
    "outputId": "956cd1b7-cde9-48cf-af96-e24ae33a8e94"
   },
   "outputs": [
    {
     "data": {
      "text/plain": [
       "4.0"
      ]
     },
     "execution_count": 17,
     "metadata": {},
     "output_type": "execute_result"
    }
   ],
   "source": [
    "len2 = sum(ps2)\n",
    "len2"
   ]
  },
  {
   "cell_type": "markdown",
   "metadata": {
    "colab_type": "text",
    "id": "BkulfCGV57cM"
   },
   "source": [
    "**S3: Currency Exchange**"
   ]
  },
  {
   "cell_type": "code",
   "execution_count": 18,
   "metadata": {
    "colab": {
     "base_uri": "https://localhost:8080/",
     "height": 68
    },
    "colab_type": "code",
    "id": "eNDYP9A2lM7H",
    "outputId": "c1527ca5-fd57-4aab-93f9-39569e363b83"
   },
   "outputs": [
    {
     "data": {
      "text/plain": [
       "array([1.])"
      ]
     },
     "execution_count": 18,
     "metadata": {},
     "output_type": "execute_result"
    }
   ],
   "source": [
    "#label_encoder = preprocessing.LabelEncoder()\n",
    "s3['ServiceUsed']= label_encoder.fit_transform(s3['ServiceUsed']) \n",
    "s3['AirportName']= label_encoder.fit_transform(s3['AirportName'])\n",
    "s3['TimeStamp'] = s3['TimeStamp'].map(mdates.date2num)\n",
    "array = s3.values\n",
    "x = array[:,[0,1,3]]\n",
    "y = array[:,2]\n",
    "x_train,y_train= x,y \n",
    "svr_rbf = svm.SVR(kernel='rbf',C= 1e3, gamma=0.1, epsilon=.1) \n",
    "svr_rbf.fit(x_train, y_train)\n",
    "ps3 = svr_rbf.predict(x)\n",
    "ps3"
   ]
  },
  {
   "cell_type": "code",
   "execution_count": 19,
   "metadata": {
    "colab": {
     "base_uri": "https://localhost:8080/",
     "height": 34
    },
    "colab_type": "code",
    "id": "ObF-46g7Lqx5",
    "outputId": "7bf84dc5-021c-4eff-e316-f08cb7b9dbad"
   },
   "outputs": [
    {
     "data": {
      "text/plain": [
       "1.0"
      ]
     },
     "execution_count": 19,
     "metadata": {},
     "output_type": "execute_result"
    }
   ],
   "source": [
    "len3 = sum(ps3)\n",
    "len3"
   ]
  },
  {
   "cell_type": "markdown",
   "metadata": {
    "colab_type": "text",
    "id": "NeCv-CgqJB7g"
   },
   "source": [
    "**S4: Information Desk**"
   ]
  },
  {
   "cell_type": "code",
   "execution_count": 20,
   "metadata": {
    "colab": {
     "base_uri": "https://localhost:8080/",
     "height": 68
    },
    "colab_type": "code",
    "id": "LS1028tnhebb",
    "outputId": "0f260727-2b85-4544-ae8b-ac2a5701d650"
   },
   "outputs": [
    {
     "data": {
      "text/plain": [
       "array([2.09999989, 3.90000011])"
      ]
     },
     "execution_count": 20,
     "metadata": {},
     "output_type": "execute_result"
    }
   ],
   "source": [
    "s4['ServiceUsed']= label_encoder.fit_transform(s4['ServiceUsed']) \n",
    "s4['AirportName']= label_encoder.fit_transform(s4['AirportName'])\n",
    "s4['TimeStamp'] = s4['TimeStamp'].map(mdates.date2num)\n",
    "array = s4.values\n",
    "x = array[:,[0,1,3]]\n",
    "y = array[:,2]\n",
    "x_train, y_train=x,y\n",
    "svr_rbf = svm.SVR(kernel='rbf',C= 1e3, gamma=0.1, epsilon=.1) \n",
    "svr_rbf.fit(x_train, y_train)\n",
    "ps4 = svr_rbf.predict(x)\n",
    "ps4"
   ]
  },
  {
   "cell_type": "code",
   "execution_count": 21,
   "metadata": {
    "colab": {
     "base_uri": "https://localhost:8080/",
     "height": 34
    },
    "colab_type": "code",
    "id": "VLJyZAvvLujq",
    "outputId": "942c7eb3-193a-493c-e4ca-8b7aa730e2ca"
   },
   "outputs": [
    {
     "data": {
      "text/plain": [
       "6.0"
      ]
     },
     "execution_count": 21,
     "metadata": {},
     "output_type": "execute_result"
    }
   ],
   "source": [
    "len4 = sum(ps4)\n",
    "len4"
   ]
  },
  {
   "cell_type": "markdown",
   "metadata": {
    "colab_type": "text",
    "id": "1Hw2ESH8JpH1"
   },
   "source": [
    "**S5: Luggage Storage**"
   ]
  },
  {
   "cell_type": "code",
   "execution_count": 22,
   "metadata": {
    "colab": {
     "base_uri": "https://localhost:8080/",
     "height": 68
    },
    "colab_type": "code",
    "id": "UdD0ZhWdJHJR",
    "outputId": "055c5db4-05ed-4669-98e1-52f6b9401e49"
   },
   "outputs": [
    {
     "data": {
      "text/plain": [
       "array([2.])"
      ]
     },
     "execution_count": 22,
     "metadata": {},
     "output_type": "execute_result"
    }
   ],
   "source": [
    "s5['ServiceUsed']= label_encoder.fit_transform(s5['ServiceUsed']) \n",
    "s5['AirportName']= label_encoder.fit_transform(s5['AirportName'])\n",
    "s5['TimeStamp'] = s5['TimeStamp'].map(mdates.date2num)\n",
    "array = s5.values\n",
    "x = array[:,[0,1,3]]\n",
    "y = array[:,2]\n",
    "x_train,y_train= x,y\n",
    "svr_rbf = svm.SVR(kernel='rbf',C= 1e3, gamma=0.1, epsilon=.1) \n",
    "svr_rbf.fit(x_train, y_train)\n",
    "ps5 = svr_rbf.predict(x)\n",
    "ps5"
   ]
  },
  {
   "cell_type": "code",
   "execution_count": 23,
   "metadata": {
    "colab": {
     "base_uri": "https://localhost:8080/",
     "height": 34
    },
    "colab_type": "code",
    "id": "IYSPWc6ALxeU",
    "outputId": "0d4ef982-83f3-4115-ef8b-8d05ced60645"
   },
   "outputs": [
    {
     "data": {
      "text/plain": [
       "2.0"
      ]
     },
     "execution_count": 23,
     "metadata": {},
     "output_type": "execute_result"
    }
   ],
   "source": [
    "len5 = sum(ps5)\n",
    "len5"
   ]
  },
  {
   "cell_type": "markdown",
   "metadata": {
    "colab_type": "text",
    "id": "hK4bM_N8J4Yj"
   },
   "source": [
    "**S6: Parking Stands**"
   ]
  },
  {
   "cell_type": "code",
   "execution_count": 24,
   "metadata": {
    "colab": {
     "base_uri": "https://localhost:8080/",
     "height": 68
    },
    "colab_type": "code",
    "id": "nAppaLlZJ2dK",
    "outputId": "c8fd1206-c666-4a1b-e06c-deea197e1aac"
   },
   "outputs": [
    {
     "data": {
      "text/plain": [
       "array([3.])"
      ]
     },
     "execution_count": 24,
     "metadata": {},
     "output_type": "execute_result"
    }
   ],
   "source": [
    "s6['ServiceUsed']= label_encoder.fit_transform(s6['ServiceUsed']) \n",
    "s6['AirportName']= label_encoder.fit_transform(s6['AirportName'])\n",
    "s6['TimeStamp'] = s6['TimeStamp'].map(mdates.date2num)\n",
    "array = s6.values\n",
    "x = array[:,[0,1,3]]\n",
    "y = array[:,2]\n",
    "x_train,y_train= x,y\n",
    "svr_rbf = svm.SVR(kernel='rbf',C= 1e3, gamma=0.1, epsilon=.1) \n",
    "svr_rbf.fit(x_train, y_train)\n",
    "ps6 = svr_rbf.predict(x)\n",
    "ps6"
   ]
  },
  {
   "cell_type": "code",
   "execution_count": 25,
   "metadata": {
    "colab": {
     "base_uri": "https://localhost:8080/",
     "height": 34
    },
    "colab_type": "code",
    "id": "0iTflo_dL05a",
    "outputId": "78294af4-4fd6-4515-8125-2c3db28992ee"
   },
   "outputs": [
    {
     "data": {
      "text/plain": [
       "3.0"
      ]
     },
     "execution_count": 25,
     "metadata": {},
     "output_type": "execute_result"
    }
   ],
   "source": [
    "len6 = sum(ps6)\n",
    "len6"
   ]
  },
  {
   "cell_type": "markdown",
   "metadata": {
    "colab_type": "text",
    "id": "M6jXgxOeKZ8M"
   },
   "source": [
    "**S7: Trolleys**"
   ]
  },
  {
   "cell_type": "code",
   "execution_count": 26,
   "metadata": {
    "colab": {
     "base_uri": "https://localhost:8080/",
     "height": 85
    },
    "colab_type": "code",
    "id": "HaIcL2h_KWL1",
    "outputId": "50426ca6-3a5f-47d4-ad22-f61849626a3b"
   },
   "outputs": [
    {
     "data": {
      "text/plain": [
       "array([5., 5.])"
      ]
     },
     "execution_count": 26,
     "metadata": {},
     "output_type": "execute_result"
    }
   ],
   "source": [
    "s7['ServiceUsed']= label_encoder.fit_transform(s7['ServiceUsed']) \n",
    "s7['AirportName']= label_encoder.fit_transform(s7['AirportName'])\n",
    "s7['TimeStamp'] = s7['TimeStamp'].map(mdates.date2num)\n",
    "array = s7.values\n",
    "x = array[:,[0,1,3]]\n",
    "y = array[:,2]\n",
    "x_train, x_test, y_train, y_test = train_test_split(x, y, test_size=0.20, random_state=109) \n",
    "svr_rbf = svm.SVR(kernel='rbf',C= 1e3, gamma=0.1, epsilon=.1) \n",
    "svr_rbf.fit(x_train, y_train)\n",
    "ps7 = svr_rbf.predict(x)\n",
    "ps7"
   ]
  },
  {
   "cell_type": "code",
   "execution_count": 27,
   "metadata": {
    "colab": {
     "base_uri": "https://localhost:8080/",
     "height": 34
    },
    "colab_type": "code",
    "id": "mOMkB68GL4Qh",
    "outputId": "89bd2ea7-7bd0-40cd-b927-fecff87ad873"
   },
   "outputs": [
    {
     "data": {
      "text/plain": [
       "10.0"
      ]
     },
     "execution_count": 27,
     "metadata": {},
     "output_type": "execute_result"
    }
   ],
   "source": [
    "len7 = sum(ps7)\n",
    "len7"
   ]
  },
  {
   "cell_type": "code",
   "execution_count": 28,
   "metadata": {
    "colab": {
     "base_uri": "https://localhost:8080/",
     "height": 542
    },
    "colab_type": "code",
    "id": "1kxF4I_XTC0A",
    "outputId": "f6ef91d2-ca3a-4e2d-da82-f25cc25a0595"
   },
   "outputs": [
    {
     "data": {
      "text/plain": [
       "'C:\\\\xampp\\\\htdocs\\\\Project\\\\hyderabad.html'"
      ]
     },
     "execution_count": 28,
     "metadata": {},
     "output_type": "execute_result"
    }
   ],
   "source": [
    "label = ['Arrival Baggage Belt','Boarding Gates','Currency Exchange','Information Desk','Luggage Storage','Parking Stands','Trolleys']\n",
    "fig = make_subplots(rows=1, cols=2, specs=[[{\"type\": \"bar\"}, {\"type\": \"pie\"}]], subplot_titles=['Bar Chart', 'Pie Chart'])\n",
    "trace1=go.Bar(\n",
    "    x=label,\n",
    "    y=[len1,len2,len3,len4,len5,len6,len7],\n",
    "    name=\"\",\n",
    "    marker = {'color' : ['cyan','darkviolet','red','green','blue','orange'] }\n",
    "    )\n",
    "\n",
    "trace2=go.Pie(values=[len1,len2,len3,len4,len5,len6,len7],\n",
    "labels=label,\n",
    "name=\"\")\n",
    "fig.add_trace(trace1,row=1, col=1)\n",
    "fig.add_trace(trace2,row=1, col=2)\n",
    "\n",
    "fig.update_layout(title='Hyderabad Airport Service Consumption', xaxis={'title':'Service name'},\n",
    "    yaxis={'title':'Units of Comsumption'})\n",
    "plotly.offline.plot(fig, filename='C:\\\\xampp\\\\htdocs\\\\Project\\\\hyderabad.html',validate=False)\n"
   ]
  },
  {
   "cell_type": "code",
   "execution_count": null,
   "metadata": {},
   "outputs": [],
   "source": []
  }
 ],
 "metadata": {
  "colab": {
   "collapsed_sections": [],
   "name": "SVMOverall.ipynb",
   "provenance": [],
   "toc_visible": true
  },
  "kernelspec": {
   "display_name": "Python 3",
   "language": "python",
   "name": "python3"
  },
  "language_info": {
   "codemirror_mode": {
    "name": "ipython",
    "version": 3
   },
   "file_extension": ".py",
   "mimetype": "text/x-python",
   "name": "python",
   "nbconvert_exporter": "python",
   "pygments_lexer": "ipython3",
   "version": "3.8.3"
  }
 },
 "nbformat": 4,
 "nbformat_minor": 4
}
